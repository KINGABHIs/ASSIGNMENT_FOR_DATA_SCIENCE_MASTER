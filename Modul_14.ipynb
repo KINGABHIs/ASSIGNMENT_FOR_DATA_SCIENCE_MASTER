{
 "cells": [
  {
   "cell_type": "raw",
   "id": "b0658f29-7e5b-47ce-97d9-aef4f5429995",
   "metadata": {},
   "source": [
    "Q1. Create a function which will take a list as an argument and return the product of all the numbers after creating a flat list.\n",
    "\n",
    "Use the below-given list as an argument for your function.\n",
    "list1 = [1,2,3,4, [44,55,66, True], False, (34,56,78,89,34), {1,2,3,3,2,1}, {1:34, \"key2\": [55, 67, 78, 89], 4: (45,\n",
    "22, 61, 34)}, [56, 'data science'], 'Machine Learning']"
   ]
  },
  {
   "cell_type": "code",
   "execution_count": 1,
   "id": "ff0a0c1e-705c-4c23-98eb-106ad539e0dd",
   "metadata": {},
   "outputs": [],
   "source": [
    "list1 =[1,2,3,4,[44,55,66,True],False,(34,56,78,89,34),{1,2,3,3,2,1},{1:34,\"key2\":[55,67,78,89],4:(45,22,61,34)},[56,'data science'],'Machine Learning']"
   ]
  },
  {
   "cell_type": "code",
   "execution_count": 63,
   "id": "5501d3ca-964b-4a70-9737-36df3d9d39da",
   "metadata": {},
   "outputs": [
    {
     "name": "stdout",
     "output_type": "stream",
     "text": [
      "Product of all numbers: 1033677959746771369708460310528000\n"
     ]
    }
   ],
   "source": [
    "def product_of(l):\n",
    "    flat_list = []  # To store the numeric values\n",
    "\n",
    "    # Iterate through the list\n",
    "    for i in l:\n",
    "        if isinstance(i, (list, tuple, set)):  # Check for list, tuple, or set\n",
    "            for j in i:\n",
    "                if isinstance(j, (int, float)) and not isinstance(j, bool):  # Exclude booleans\n",
    "                    flat_list.append(j)\n",
    "        elif isinstance(i, dict):  # Check for dictionary\n",
    "            for value in i.values():\n",
    "                if isinstance(value, (int, float)) and not isinstance(value, bool):  # Exclude booleans\n",
    "                    flat_list.append(value)\n",
    "                elif isinstance(value, (list, tuple)):  # Check for nested lists/tuples in dict\n",
    "                    for sub_value in value:\n",
    "                        if isinstance(sub_value, (int, float)) and not isinstance(sub_value, bool):  # Exclude booleans\n",
    "                            flat_list.append(sub_value)\n",
    "        elif isinstance(i, (int, float)) and not isinstance(i, bool):  # Handle direct numeric values\n",
    "            flat_list.append(i)\n",
    "\n",
    "    # Calculate the product of the numbers in the flat list\n",
    "    product = 1\n",
    "    for num in flat_list:\n",
    "        product *= num\n",
    "\n",
    "    return product\n",
    "\n",
    "# Example list\n",
    "list1 = [\n",
    "    1, 2, 3, 4, [44, 55, 66, True], False,\n",
    "    (34, 56, 78, 89, 34), {1, 2, 3}, \n",
    "    {1: 34, \"key2\": [55, 67, 78, 89], 4: (45, 22, 61, 34)},\n",
    "    [56, 'data science'], 'Machine Learning'\n",
    "]\n",
    "\n",
    "# Call the function\n",
    "result = product_of(list1)\n",
    "print(\"Product of all numbers:\", result)\n"
   ]
  },
  {
   "cell_type": "code",
   "execution_count": 65,
   "id": "39b619ec-9e88-4712-8e48-2dff5647c173",
   "metadata": {},
   "outputs": [
    {
     "data": {
      "text/plain": [
       "1033677959746771369708460310528000"
      ]
     },
     "execution_count": 65,
     "metadata": {},
     "output_type": "execute_result"
    }
   ],
   "source": [
    "l1 = product_of(list1)\n",
    "l1"
   ]
  },
  {
   "cell_type": "markdown",
   "id": "ed9c14d0-553c-4160-b26a-ec856976c9ca",
   "metadata": {},
   "source": [
    "Q2. Write a python program for encrypting a message sent to you by your friend. The logic of encryption\n",
    "should be such that, for a the output should be z. For b, the output should be y. For c, the output should\n",
    "be x respectively. Also, the whitespace should be replaced with a dollar sign. Keep the punctuation\n",
    "marks unchanged.\n",
    "Input Sentence: I want to become a Data Scientist."
   ]
  },
  {
   "cell_type": "code",
   "execution_count": 70,
   "id": "3ae5858d-15af-414e-8725-0eac2e2b24e8",
   "metadata": {},
   "outputs": [
    {
     "data": {
      "text/plain": [
       "26"
      ]
     },
     "execution_count": 70,
     "metadata": {},
     "output_type": "execute_result"
    }
   ],
   "source": [
    "data = ['a','b','c','d','e','f','g','h','i','j','k','l','m','n','o','p','q','r','s','t','u','v','w','x','y','z']\n",
    "len(data)"
   ]
  },
  {
   "cell_type": "code",
   "execution_count": 80,
   "id": "caab3ad4-641c-410a-90a6-c92b40558dad",
   "metadata": {},
   "outputs": [],
   "source": [
    "def encrypt_message(message):\n",
    "    # Convert the message to lowercase\n",
    "    message = message.lower()\n",
    "    \n",
    "    # Initialize an empty string for the encrypted message\n",
    "    encrypted_message = \"\"\n",
    "    \n",
    "    # Iterate through each character in the message\n",
    "    for char in message:\n",
    "        if char.isalpha():  # Check if the character is an alphabet\n",
    "            # Encrypt using the simplified reverse logic\n",
    "            encrypted_message += chr(122 - (ord(char) - 97))\n",
    "        elif char.isspace():  # Replace spaces with '$'\n",
    "            encrypted_message += '$'\n",
    "        else:  # Keep punctuation marks unchanged\n",
    "            encrypted_message += char\n",
    "    \n",
    "    return encrypted_message\n",
    "\n",
    "\n"
   ]
  },
  {
   "cell_type": "code",
   "execution_count": 82,
   "id": "8401df50-ee78-4186-86b3-a9b6a5ea283d",
   "metadata": {},
   "outputs": [
    {
     "data": {
      "text/plain": [
       "'r$dzmg$gl$yvxlnv$z$wzgz$hxrvmgrhg.'"
      ]
     },
     "execution_count": 82,
     "metadata": {},
     "output_type": "execute_result"
    }
   ],
   "source": [
    "encrpited_mess = encrypt_message(\"I want to become a Data Scientist.\")\n",
    "encrpited_mess"
   ]
  },
  {
   "cell_type": "code",
   "execution_count": null,
   "id": "0e6b12cd-7e44-45a8-b4e2-c8ac41f0b116",
   "metadata": {},
   "outputs": [],
   "source": []
  }
 ],
 "metadata": {
  "kernelspec": {
   "display_name": "Python 3 (ipykernel)",
   "language": "python",
   "name": "python3"
  },
  "language_info": {
   "codemirror_mode": {
    "name": "ipython",
    "version": 3
   },
   "file_extension": ".py",
   "mimetype": "text/x-python",
   "name": "python",
   "nbconvert_exporter": "python",
   "pygments_lexer": "ipython3",
   "version": "3.12.4"
  }
 },
 "nbformat": 4,
 "nbformat_minor": 5
}
