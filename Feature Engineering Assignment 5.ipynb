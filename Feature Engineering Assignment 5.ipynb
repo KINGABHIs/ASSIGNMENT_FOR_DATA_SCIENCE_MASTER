{
 "cells": [
  {
   "cell_type": "markdown",
   "id": "ba9ddf85-6054-413a-80a3-20e439de7b83",
   "metadata": {},
   "source": [
    "## Q1. What is the difference between Ordinal Encoding and Label Encoding? Provide an example of when youmight choose one over the other.\n",
    "\n",
    "### Ans :\n",
    "Difference Between Ordinal Encoding and Label Encoding\n",
    "\n",
    "* Label Encoding assigns a unique number to each category without implying any order or ranking. It’s typically used for nominal (unordered) data.\n",
    "\n",
    "* Ordinal Encoding assigns a numerical value to categories with a meaningful order or ranking (e.g., \"Low\", \"Medium\", \"High\").\n",
    "\n",
    "When to Choose:\n",
    "\n",
    "* Label Encoding: Use for nominal data where there’s no natural order.\n",
    "\n",
    "        Example: Colors (Red, Blue, Green) – Label encode as 0, 1, 2.\n",
    "* Ordinal Encoding: Use for ordinal data where there is a clear ranking.\n",
    "\n",
    "        Example: Education levels (High School, Bachelor's, Master's) – Ordinal encode as 0, 1, 2.\n",
    "Label Encoding is for unordered categories, while Ordinal Encoding is for ordered categories."
   ]
  },
  {
   "cell_type": "markdown",
   "id": "69a9f368-c528-4fcf-988d-191bcd7cbb25",
   "metadata": {},
   "source": [
    "## Q2. Explain how Target Guided Ordinal Encoding works and provide an example of when you might use it in a machine learning project.\n",
    "\n",
    "### Ans :\n",
    "Target Guided Ordinal Encoding : Target Guided Ordinal Encoding is a method where categorical values are replaced by their average target value. The categories are ordered based on the mean of the target variable for each category.\n",
    "\n",
    "1. For each category, calculate the average target value (e.g., mean of the target variable for that category).\n",
    "2. Assign an ordinal value based on the calculated target averages.\n",
    "3. Categories with higher target averages get higher ordinal values.\n",
    "\n",
    "usage : This technique is useful when the categorical feature has a natural relationship with the target variable, especially in regression tasks.\n",
    "\n",
    "Example:\n",
    "\n",
    "In a customer churn prediction project, you might have a \"contract type\" feature with categories like \"Month-to-month\", \"One year\", and \"Two years\". You can replace these categories with the average churn rate for each contract type:\n",
    "\n",
    "* Month-to-month: 0.7 churn rate\n",
    "* One year: 0.3 churn rate\n",
    "* Two years: 0.1 churn rate\n",
    "Then, you would assign higher values to categories with higher churn rates."
   ]
  },
  {
   "cell_type": "markdown",
   "id": "7659f97f-704c-457a-9ed5-307949716162",
   "metadata": {},
   "source": [
    "## Q3. Define covariance and explain why it is important in statistical analysis. How is covariance calculated?\n",
    "\n",
    "### Ans :\n",
    "Covariance : Covariance is a measure of the relationship between two variables. It indicates whether the variables tend to increase or decrease together (positive covariance) or if one increases while the other decreases (negative covariance).\n",
    "\n",
    "Important Covariance :\n",
    "* Helps in Understanding Relationships: It shows how two variables move in relation to each other, which is important in statistical analysis, especially when studying patterns or trends in data.\n",
    "* Basis for Correlation: Covariance is the foundation for calculating correlation, which normalizes the relationship to a scale from -1 to 1.\n",
    "\n",
    "How is Covariance Calculated?\n",
    "The formula for covariance between two variables 𝑋 and 𝑌 is:\n",
    "\n",
    "Cov(𝑋,𝑌)=1/𝑛 ∑ 𝑖=1 upto 𝑛 (𝑋𝑖−𝑋‾)(𝑌𝑖−𝑌‾)\n",
    "\n",
    "Where:\n",
    "* 𝑋𝑖 and Yi are individual data points,\n",
    "* X and Y are the mean values of X and y.\n",
    "* n is the number of data points.\n",
    "\n",
    "In short, covariance measures how two variables vary together, helping to understand their relationship."
   ]
  },
  {
   "cell_type": "markdown",
   "id": "ca3478d9-d6bc-4183-bb8a-1cd55b36ffcc",
   "metadata": {},
   "source": [
    "## Q4. For a dataset with the following categorical variables: Color (red, green, blue), Size (small, medium, large), and Material (wood, metal, plastic), perform label encoding using Python's scikit-learn library. Show your code and explain the output.\n",
    "\n",
    "### Ans :\n"
   ]
  },
  {
   "cell_type": "code",
   "execution_count": 4,
   "id": "990372ed-094c-41a5-8c4f-9b6c9ba81ee0",
   "metadata": {},
   "outputs": [
    {
     "name": "stdout",
     "output_type": "stream",
     "text": [
      "Encoded color [2 1 0 2 0]\n",
      "Encoded size [2 1 0 1 2]\n",
      "Encoded material [2 0 1 2 0]\n"
     ]
    }
   ],
   "source": [
    "from sklearn.preprocessing import LabelEncoder\n",
    "\n",
    "color = ['red','green','blue', 'red','blue']\n",
    "size = ['small','medium','large', 'medium', 'small']\n",
    "material = ['wood','metal','plastic','wood','metal']\n",
    "\n",
    "label = LabelEncoder()\n",
    "\n",
    "Enco_color = label.fit_transform(color)\n",
    "Enco_size = label.fit_transform(size)\n",
    "Enco_material = label.fit_transform(material)\n",
    "\n",
    "print(\"Encoded color\", Enco_color)\n",
    "print(\"Encoded size\", Enco_size)\n",
    "print(\"Encoded material\", Enco_material)\n"
   ]
  },
  {
   "cell_type": "markdown",
   "id": "144d2b49-62c5-4bca-bcea-901e2771a4f2",
   "metadata": {},
   "source": [
    "## Q5. Calculate the covariance matrix for the following variables in a dataset: Age, Income, and Education level. Interpret the results.\n",
    "\n",
    "### Ans :\n"
   ]
  },
  {
   "cell_type": "code",
   "execution_count": 6,
   "id": "17c6a28a-61a9-451c-92f3-611f7c44b927",
   "metadata": {},
   "outputs": [],
   "source": [
    "import numpy as np\n",
    "\n",
    "data = np.array([\n",
    "    [25, 50000, 2],  # Age = 25, Income = 50000, Education Level = 2 (e.g., Bachelor's)\n",
    "    [30, 60000, 3],  # Age = 30, Income = 60000, Education Level = 3 (e.g., Master's)\n",
    "    [35, 70000, 3],  # Age = 35, Income = 70000, Education Level = 3 (e.g., Master's)\n",
    "    [40, 80000, 4],  # Age = 40, Income = 80000, Education Level = 4 (e.g., PhD)\n",
    "])\n"
   ]
  },
  {
   "cell_type": "code",
   "execution_count": 8,
   "id": "47752f03-05bc-46da-99d0-3c5b1ac007ee",
   "metadata": {},
   "outputs": [
    {
     "name": "stdout",
     "output_type": "stream",
     "text": [
      "Covariance Matrix:\n",
      "[[4.16666667e+01 8.33333333e+04 5.00000000e+00]\n",
      " [8.33333333e+04 1.66666667e+08 1.00000000e+04]\n",
      " [5.00000000e+00 1.00000000e+04 6.66666667e-01]]\n"
     ]
    }
   ],
   "source": [
    "# Calculate covariance matrix\n",
    "cov_matrix = np.cov(data, rowvar=False)\n",
    "\n",
    "print(\"Covariance Matrix:\")\n",
    "print(cov_matrix)"
   ]
  },
  {
   "cell_type": "markdown",
   "id": "7c592428-b853-4bde-a62f-9ac0084d3690",
   "metadata": {},
   "source": [
    "## Q6. You are working on a machine learning project with a dataset containing several categorical variables, including \"Gender\" (Male/Female), \"Education Level\" (High School/Bachelor's/Master's/PhD), and \"Employment Status\" (Unemployed/Part-Time/Full-Time). Which encoding method would you use for each variable, and why?\n",
    "\n",
    "### Ans :\n",
    "Encoding Method Selection\n",
    "1. Gender (Male/Female):\n",
    "\n",
    "* Encoding Method: Label Encoding\n",
    "* Why: Since Gender has only two categories, label encoding (Male = 0, Female = 1) is simple and efficient.\n",
    "\n",
    "2. Education Level (High School/Bachelor's/Master's/PhD):\n",
    "\n",
    "* Encoding Method: Ordinal Encoding\n",
    "* Why: Education Level has a natural order (High School < Bachelor's < Master's < PhD), so ordinal encoding (assigning numeric values based on order) makes sense.\n",
    "\n",
    "3. Employment Status (Unemployed/Part-Time/Full-Time):\n",
    "\n",
    "* Encoding Method: One-Hot Encoding\n",
    "* Why: Employment Status has more than two categories with no inherent order. One-hot encoding will create separate binary columns for each category, allowing the model to treat them as distinct."
   ]
  },
  {
   "cell_type": "markdown",
   "id": "cda11f49-2a3e-4a67-9357-5304fc12e827",
   "metadata": {},
   "source": [
    "## Q7. You are analyzing a dataset with two continuous variables, \"Temperature\" and \"Humidity\", and two categorical variables, \"Weather Condition\" (Sunny/Cloudy/Rainy) and \"Wind Direction\" (North/South/ East/West). Calculate the covariance between each pair of variables and interpret the results.\n",
    "\n",
    "### Ans :\n",
    "\n",
    "To calculate the covariance between each pair of variables, we need numerical representations for both continuous and categorical variables. Here's a simple way to calculate and interpret the covariance:\n",
    "\n",
    "Steps:\n",
    "1. Temperature and Humidity are continuous variables, so we calculate their covariance directly.\n",
    "2. Weather Condition and Wind Direction are categorical variables, so we first need to encode them (e.g., using Label Encoding or One-Hot Encoding) before calculating the covariance."
   ]
  },
  {
   "cell_type": "code",
   "execution_count": 10,
   "id": "189644d1-c86b-4885-9407-18c401d8b7be",
   "metadata": {},
   "outputs": [
    {
     "name": "stdout",
     "output_type": "stream",
     "text": [
      "Covariance Matrix:\n",
      "[[ 41.66666667 -29.16666667  -0.83333333  -3.33333333]\n",
      " [-29.16666667  72.91666667   4.58333333  -4.16666667]\n",
      " [ -0.83333333   4.58333333   0.91666667   0.16666667]\n",
      " [ -3.33333333  -4.16666667   0.16666667   1.66666667]]\n"
     ]
    }
   ],
   "source": [
    "import numpy as np\n",
    "from sklearn.preprocessing import LabelEncoder\n",
    "\n",
    "# Sample data (Temperature, Humidity, Weather Condition, Wind Direction)\n",
    "data = np.array([\n",
    "    [30, 80, 'Sunny', 'North'],\n",
    "    [25, 70, 'Cloudy', 'South'],\n",
    "    [20, 90, 'Rainy', 'East'],\n",
    "    [15, 85, 'Sunny', 'West'],\n",
    "])\n",
    "\n",
    "# Encoding categorical variables\n",
    "label_encoder = LabelEncoder()\n",
    "weather_encoded = label_encoder.fit_transform(data[:, 2])  # Weather Condition\n",
    "wind_encoded = label_encoder.fit_transform(data[:, 3])  # Wind Direction\n",
    "\n",
    "# Combine the data with encoded values\n",
    "encoded_data = np.column_stack((data[:, 0].astype(float), data[:, 1].astype(float), weather_encoded, wind_encoded))\n",
    "\n",
    "# Calculate covariance matrix\n",
    "cov_matrix = np.cov(encoded_data, rowvar=False)\n",
    "\n",
    "print(\"Covariance Matrix:\")\n",
    "print(cov_matrix)\n"
   ]
  },
  {
   "cell_type": "code",
   "execution_count": null,
   "id": "aa75f528-21b3-47bb-8ce8-2868adfd3318",
   "metadata": {},
   "outputs": [],
   "source": []
  }
 ],
 "metadata": {
  "kernelspec": {
   "display_name": "Python 3 (ipykernel)",
   "language": "python",
   "name": "python3"
  },
  "language_info": {
   "codemirror_mode": {
    "name": "ipython",
    "version": 3
   },
   "file_extension": ".py",
   "mimetype": "text/x-python",
   "name": "python",
   "nbconvert_exporter": "python",
   "pygments_lexer": "ipython3",
   "version": "3.12.4"
  }
 },
 "nbformat": 4,
 "nbformat_minor": 5
}
