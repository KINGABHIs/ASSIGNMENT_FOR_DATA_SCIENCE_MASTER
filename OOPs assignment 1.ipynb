{
 "cells": [
  {
   "cell_type": "markdown",
   "id": "994d7394-a963-4a6a-b5da-a54b7eec57b5",
   "metadata": {},
   "source": [
    "### Q1. Which function is used to open a file? What are the different modes of opening a file? Explain each mode of file opening.\n",
    "\n",
    "### Ans :\n",
    "The open() function is used to open a file in Python.\n",
    "> file = open(\"filename\", \"mode\")\r\n",
    "1. Modes of File Opening:\n",
    "\n",
    "* r: Read mode (file must exist).\n",
    "* w: Write mode (creates/overwrites file).\n",
    "* a: Append mode (adds to file or creates it).\n",
    "* r+: Read & write (file must exist).\n",
    "* w+: Write & read (creates/overwrites file).\n",
    "* a+: Append & read (creates file if it doesn’t exist).\n",
    "* b: Binary mode (e.g., rb, wb for binary data).\n",
    "* t: Text mode (default, for text files).\n"
   ]
  },
  {
   "cell_type": "markdown",
   "id": "eed0dbf1-9272-4f03-8503-a3d5fd10c4fa",
   "metadata": {},
   "source": [
    "### Q2. Why close() function is used? Why is it important to close a file?\n",
    "\n",
    "### Ans :\n",
    "The close() function is used to close a file in Python after performing operations like reading or writing.\n",
    "\n",
    " important -\n",
    "\n",
    "* Releases Resources: Frees up system resources tied to the file.\n",
    "* Saves Changes: Ensures all data is written to the file (especially in write/append mode).\n",
    "* Prevents Errors: Avoids issues like data corruption or file locks.\n",
    "\n",
    "* ex -\n",
    "  \n",
    "file = open(\"example.txt\", \"r\")\n",
    "\r\n",
    "file.close()\r\n"
   ]
  },
  {
   "cell_type": "markdown",
   "id": "17a0b999-5c6f-4c3f-8860-216372cc3e15",
   "metadata": {},
   "source": [
    "### Q3. Write a python program to create a text file. Write ‘I want to become a Data Scientist’ in that file. Then close the file. Open this file and read the content of the file.\n",
    "\n",
    "### Ans :"
   ]
  },
  {
   "cell_type": "code",
   "execution_count": 9,
   "id": "69baa482-3d40-423c-95ed-635062c4554f",
   "metadata": {},
   "outputs": [
    {
     "name": "stdout",
     "output_type": "stream",
     "text": [
      "I want to become a Data Scientist\n"
     ]
    }
   ],
   "source": [
    "# Create and write to the file\n",
    "file = open(\"example.txt\", \"w\")\n",
    "file.write(\"I want to become a Data Scientist\")\n",
    "file.close()\n",
    "\n",
    "# Open and read the file\n",
    "file = open(\"example.txt\", \"r\")\n",
    "content = file.read()\n",
    "file.close()\n",
    "\n",
    "print(content)"
   ]
  },
  {
   "cell_type": "markdown",
   "id": "79f83631-00cd-4b56-8b72-228188bc7b23",
   "metadata": {},
   "source": [
    "### Q4. Explain the following with python code: read(), readline() and readlines().\n",
    "\n",
    "### Ans :\n",
    "1. read()\n",
    "Reads the entire file content as a single string.\n",
    "\n",
    ">file = open(\"example.txt\", \"r\")\n",
    "print(file.read())  # Reads the whole file\n",
    "file.close()\n",
    "\n",
    "2. readline()\n",
    "Reads one line at a time.\n",
    "\n",
    ">file = open(\"example.txt\", \"r\")\n",
    "print(file.readline())  # Reads the first line\n",
    "file.close()\n",
    "\n",
    "\n",
    "3. readlines()\n",
    "Reads all lines into a list of strings.\n",
    "\n",
    ">file = open(\"example.txt\", \"r\")\n",
    "print(file.readlines())  # Reads all lines as a list\n",
    "file.close()\n",
    "\n",
    "Each method is useful depending on how much data you want to read at once."
   ]
  },
  {
   "cell_type": "markdown",
   "id": "568903e4-3d4c-4ba7-8edc-c9d19d50fa23",
   "metadata": {},
   "source": [
    "### Q5. Explain why with statement is used with open(). What is the advantage of using with statement and open() together?\n",
    "\n",
    "### Ans :\n",
    "The with statement is used with open() to handle files efficiently.\n",
    "\n",
    "Advantages:\n",
    "\n",
    "Automatic File Closing: The file is automatically closed after the block, even if an error occurs.\n",
    "Cleaner Code: No need to explicitly call close().\n",
    "\n",
    "Example:\n",
    "\n",
    "with open(\"example.txt\", \"r\") as file:\n",
    "\n",
    "    content = file.read()\n",
    "    \n",
    "    print(content)  \n",
    "    \n",
    "File is automatically closed after this block"
   ]
  },
  {
   "cell_type": "markdown",
   "id": "989df5e3-1b9a-4e52-9b72-99e891f36785",
   "metadata": {},
   "source": [
    "### Q6. Explain the write() and writelines() functions. Give a suitable example.\n",
    "\n",
    "### Ans :\n",
    "1. write()\n",
    "Writes a single string to a file.\n",
    "\n",
    "with open(\"example.txt\", \"w\") as file:\n",
    "\n",
    "    file.write(\"I love Python!\") \n",
    "\n",
    "2. writelines()\n",
    "Writes a list of strings to a file.\n",
    "\n",
    "with open(\"example.txt\", \"w\") as file:\n",
    "\n",
    "    lines = [\"I love Python!\\n\", \"I want to become a Data Scientist.\\n\"]\n",
    "    \n",
    "    file.writelines(lines)  \n",
    "    \n",
    "Both are used for writing to files, with writelines() handling multiple strings at once."
   ]
  },
  {
   "cell_type": "code",
   "execution_count": null,
   "id": "ea2fba7a-53ff-47c2-b837-3a25185837ac",
   "metadata": {},
   "outputs": [],
   "source": []
  }
 ],
 "metadata": {
  "kernelspec": {
   "display_name": "Python 3 (ipykernel)",
   "language": "python",
   "name": "python3"
  },
  "language_info": {
   "codemirror_mode": {
    "name": "ipython",
    "version": 3
   },
   "file_extension": ".py",
   "mimetype": "text/x-python",
   "name": "python",
   "nbconvert_exporter": "python",
   "pygments_lexer": "ipython3",
   "version": "3.12.4"
  }
 },
 "nbformat": 4,
 "nbformat_minor": 5
}
