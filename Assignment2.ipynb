{
 "cells": [
  {
   "cell_type": "markdown",
   "id": "60c73153-f64e-4d89-b885-285c9e9f8ffd",
   "metadata": {
    "tags": []
   },
   "source": [
    "# Assignment 2"
   ]
  },
  {
   "cell_type": "markdown",
   "id": "cedc5d48-9ba9-4a65-be8e-66436cb3218c",
   "metadata": {
    "jp-MarkdownHeadingCollapsed": true,
    "tags": []
   },
   "source": [
    "### Q1. Which keyword is used to create a function? Create a function to return a list of odd numbers in the range of 1 to 25."
   ]
  },
  {
   "cell_type": "markdown",
   "id": "90e34593-358e-45c0-99b9-ee6400fcaa83",
   "metadata": {},
   "source": [
    "-> \"def\" keyword is used to create a function. "
   ]
  },
  {
   "cell_type": "code",
   "execution_count": null,
   "id": "efcb0d63-aefa-4a1e-9f8a-f9a0e11c5d07",
   "metadata": {},
   "outputs": [],
   "source": [
    "def list_odd_no ():\n",
    "    \"\"\" This function create a list of odd numbers \"\"\"\n",
    "    list1 = []\n",
    "    for i in range(1,25+1):\n",
    "        if i % 2 == 1:\n",
    "            list1.append(i)\n",
    "    return list1\n"
   ]
  },
  {
   "cell_type": "code",
   "execution_count": null,
   "id": "8d0ec172-9235-4383-949d-6d38622c28bb",
   "metadata": {},
   "outputs": [],
   "source": [
    "list_odd_no()"
   ]
  },
  {
   "cell_type": "markdown",
   "id": "88b27513-75e4-4b9d-9b3a-4efeb7fe643d",
   "metadata": {
    "jp-MarkdownHeadingCollapsed": true,
    "tags": []
   },
   "source": [
    "### Q2. Why *args and **kwargs is used in some functions? Create a function each for *args and **kwargs to demonstrate their use"
   ]
  },
  {
   "cell_type": "markdown",
   "id": "bd7b8ff5-3f30-44cc-8139-f8b96593475f",
   "metadata": {},
   "source": [
    "-> \"*args \" is used to take multiple arguments in the function without declear in the function .\n",
    "\n",
    "-> \"**kwargs \" is used to create a dictionry using a fuction ."
   ]
  },
  {
   "cell_type": "code",
   "execution_count": null,
   "id": "c40e909a-e1f8-4aff-9a47-c0ae0ddca9ba",
   "metadata": {},
   "outputs": [],
   "source": [
    "# *agrs\n",
    "def use_of_args(*args):\n",
    "    return args"
   ]
  },
  {
   "cell_type": "code",
   "execution_count": null,
   "id": "fc018a39-6257-46b0-9245-26b29a46ca04",
   "metadata": {},
   "outputs": [],
   "source": [
    "use_of_args(1,3,4,5,6,\"abhi\",[3,4,5])"
   ]
  },
  {
   "cell_type": "code",
   "execution_count": null,
   "id": "856d2630-0cac-4d7a-9e81-f3682c934f7f",
   "metadata": {},
   "outputs": [],
   "source": [
    "# **kwagrs\n",
    "def use_of_kwagrs(** kwargs):\n",
    "    return kwargs"
   ]
  },
  {
   "cell_type": "code",
   "execution_count": null,
   "id": "b4bb4e97-a58d-45db-bf55-675a4c04e6b3",
   "metadata": {},
   "outputs": [],
   "source": [
    "use_of_kwagrs(a = 'abhi', b = 'boll' , c = 'call' ,d = 'doll')"
   ]
  },
  {
   "cell_type": "markdown",
   "id": "df1c8697-f78f-4e64-8988-4abb58bf68ce",
   "metadata": {},
   "source": [
    "### Q3.  What is an iterator in python? Name the method used to initialise the iterator object and the method used for iteration. Use these methods to print the first five elements of the given list [2, 4, 6, 8, 10, 12, 14, 16, 18, 20]."
   ]
  },
  {
   "cell_type": "markdown",
   "id": "fbae4132-58ef-4dfc-99a7-ccbe4ee16834",
   "metadata": {},
   "source": [
    "-> In Python, an iterator is an object that allows you to iterate over collections of data, such as lists,          tuples, dictionaries, and sets."
   ]
  },
  {
   "cell_type": "markdown",
   "id": "d74663fd-fa90-4af9-a5ce-6019c5638fcd",
   "metadata": {},
   "source": [
    "-> \"iter()\" is the method used to initialise the iterator object and the method used for iteration."
   ]
  },
  {
   "cell_type": "code",
   "execution_count": null,
   "id": "f7624630-58f3-4680-a3f1-ebb1f2ca2992",
   "metadata": {},
   "outputs": [],
   "source": [
    "l1 =  [2, 4, 6, 8, 10, 12, 14, 16, 18, 20]\n",
    "method = iter(l1)\n",
    "i = 0\n",
    "while i<5:\n",
    "    print(next(method))\n",
    "    i = i+1"
   ]
  },
  {
   "cell_type": "markdown",
   "id": "65c8d666-3d68-41b5-aa57-2fd8ed098816",
   "metadata": {},
   "source": [
    "### Q4.  What is a generator function in python? Why yield keyword is used? Give an example of a generator function."
   ]
  },
  {
   "cell_type": "markdown",
   "id": "ff31474a-491a-48af-a14d-e8f0dbb3fc29",
   "metadata": {},
   "source": [
    "-> Generator-Function: A generator-function is defined like a normal function, but whenever it needs to generate a value, it does so with the yield keyword rather than return. If the body of a def contains yield, the function automatically becomes a generator function."
   ]
  },
  {
   "cell_type": "markdown",
   "id": "5aeb6842-c480-469a-878e-c4b9e1e669db",
   "metadata": {},
   "source": [
    "Yield = yield keyword is used to create a generator function. A type of function that is memory efficient and can be used like an iterator object."
   ]
  },
  {
   "cell_type": "code",
   "execution_count": null,
   "id": "50dae167-7151-45e4-bc98-46a309b4c242",
   "metadata": {},
   "outputs": [],
   "source": [
    "def generatorfun():\n",
    "    yield 1\n",
    "    yield 2\n",
    "    yield 3\n",
    "    \n",
    "for i in generatorfun():\n",
    "    print(i)"
   ]
  },
  {
   "cell_type": "markdown",
   "id": "81260045-0914-415d-922e-79108d7d197e",
   "metadata": {},
   "source": [
    "### Q5. Create a generator function for prime numbers less than 1000. Use the next() method to print the first 20 prime numbers."
   ]
  },
  {
   "cell_type": "code",
   "execution_count": 1,
   "id": "2ce07d8d-dd3e-4481-b82a-c1c23dba531b",
   "metadata": {},
   "outputs": [
    {
     "name": "stdout",
     "output_type": "stream",
     "text": [
      "2\n",
      "3\n",
      "5\n",
      "7\n",
      "11\n",
      "13\n",
      "17\n",
      "19\n",
      "23\n",
      "29\n",
      "31\n",
      "37\n",
      "41\n",
      "43\n",
      "47\n",
      "53\n",
      "59\n",
      "61\n",
      "67\n",
      "71\n"
     ]
    }
   ],
   "source": [
    "def prime_numbers():\n",
    "    yield 2\n",
    "\n",
    "    for num in range(3, 1000, 2):\n",
    "        for i in range(3, num, 2):\n",
    "            if num % i == 0:\n",
    "                break\n",
    "        else:\n",
    "            yield num\n",
    "\n",
    "prime_gen = prime_numbers()\n",
    "for _ in range(20):\n",
    "    print(next(prime_gen))\n",
    "            "
   ]
  },
  {
   "cell_type": "code",
   "execution_count": null,
   "id": "d5e31ac0-9776-4f76-8d9f-3f9dd434ed2e",
   "metadata": {},
   "outputs": [],
   "source": []
  },
  {
   "cell_type": "markdown",
   "id": "1b6a8b05-d6b6-4430-942a-f02b61905c61",
   "metadata": {
    "tags": []
   },
   "source": [
    "### Q6. Write a python program to print the first 10 Fibonacci numbers using a while loop."
   ]
  },
  {
   "cell_type": "code",
   "execution_count": null,
   "id": "260ffc81-27b4-457d-b1cc-1886bd1444c5",
   "metadata": {},
   "outputs": [],
   "source": [
    "n = 10\n",
    "a , b = 0 , 1\n",
    "i = 1\n",
    "while i <= n:\n",
    "    print(a)\n",
    "    c = a+b\n",
    "    a = b\n",
    "    b = c\n",
    "    i = i+1"
   ]
  },
  {
   "cell_type": "code",
   "execution_count": null,
   "id": "0a357ef6-3dff-4acc-aec3-154421a42c2b",
   "metadata": {},
   "outputs": [],
   "source": []
  },
  {
   "cell_type": "markdown",
   "id": "ed58fb44-d2a7-4970-8fdb-ff2316d79416",
   "metadata": {},
   "source": [
    "### Q7. Write a List Comprehension to iterate through the given string: ‘pwskills’.\n",
    "### Expected output: ['p', 'w', 's', 'k', 'i', 'l', 'l', 's']"
   ]
  },
  {
   "cell_type": "code",
   "execution_count": null,
   "id": "0b83b1c6-ced1-4898-a577-c3c49ef3aac5",
   "metadata": {},
   "outputs": [],
   "source": [
    "string = \"pwskills\"\n",
    "[i for i in string]"
   ]
  },
  {
   "cell_type": "markdown",
   "id": "c9d81592-dacf-4bf7-971f-9724dc32ed63",
   "metadata": {},
   "source": [
    "### Q8. Write a python program to check whether a given number is Palindrome or not using a while loop."
   ]
  },
  {
   "cell_type": "code",
   "execution_count": null,
   "id": "4ff6e8bd-6258-4750-8ae2-970c8aa09bf2",
   "metadata": {},
   "outputs": [],
   "source": []
  },
  {
   "cell_type": "code",
   "execution_count": null,
   "id": "6c53f629-5bd1-432c-a83a-dc283a27c611",
   "metadata": {},
   "outputs": [],
   "source": [
    "num = int(input(\" Enter a number: \"))\n",
    "temp = num\n",
    "rev = 0\n",
    "while (num > 0):\n",
    "    digit = num % 10\n",
    "    \n",
    "    rev = (rev * 10 )+ digit\n",
    "\n",
    "    num = num //10\n",
    "    \n",
    "    \n",
    "if(rev == temp):\n",
    "    print('given number is plindrome')\n",
    "else:\n",
    "    print('given number is not plindrome.............')"
   ]
  },
  {
   "cell_type": "markdown",
   "id": "f6066450-b9b2-4c4f-a17b-100a5e3c2239",
   "metadata": {},
   "source": [
    "### Q9. Write a code to print odd numbers from 1 to 100 using list comprehension.\n",
    "\n",
    "### Note: Use a list comprehension to create a list from 1 to 100 and use another List comprehension to filter out odd numbers."
   ]
  },
  {
   "cell_type": "code",
   "execution_count": null,
   "id": "472a8ea4-0a6d-4c0f-a1e6-b8cc267dc261",
   "metadata": {},
   "outputs": [],
   "source": [
    "l =[i for i in range(1,100+1) ]"
   ]
  },
  {
   "cell_type": "code",
   "execution_count": null,
   "id": "bf8b795c-3c89-4484-b83a-e966c9fe3bda",
   "metadata": {},
   "outputs": [],
   "source": [
    "[i for i in l if i % 2 == 1]"
   ]
  },
  {
   "cell_type": "code",
   "execution_count": null,
   "id": "b37c2509-afc2-4781-8ff7-b8cb13e74270",
   "metadata": {},
   "outputs": [],
   "source": []
  }
 ],
 "metadata": {
  "kernelspec": {
   "display_name": "Python 3 (ipykernel)",
   "language": "python",
   "name": "python3"
  },
  "language_info": {
   "codemirror_mode": {
    "name": "ipython",
    "version": 3
   },
   "file_extension": ".py",
   "mimetype": "text/x-python",
   "name": "python",
   "nbconvert_exporter": "python",
   "pygments_lexer": "ipython3",
   "version": "3.10.8"
  }
 },
 "nbformat": 4,
 "nbformat_minor": 5
}
