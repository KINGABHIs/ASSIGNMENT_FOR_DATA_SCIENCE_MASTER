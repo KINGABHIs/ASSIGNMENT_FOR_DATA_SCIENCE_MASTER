{
 "cells": [
  {
   "cell_type": "markdown",
   "id": "ac3add10-4eaf-4eb4-b4de-8146b7b61ff7",
   "metadata": {},
   "source": [
    "Q 1)  Who developed python porgramming language?\n"
   ]
  },
  {
   "cell_type": "markdown",
   "id": "a9ae16ba-8699-44cc-b567-b7539ad6ab6e",
   "metadata": {},
   "source": [
    "->    It was developed by Guido van Rossum."
   ]
  },
  {
   "cell_type": "markdown",
   "id": "cd6f01cb-913a-40a3-a3a0-75e7bcbf40e3",
   "metadata": {},
   "source": [
    "Q 2 ) Which type of Pogramming does python support ?"
   ]
  },
  {
   "cell_type": "markdown",
   "id": "703eba77-112f-49ba-bc5d-29044b6f3d25",
   "metadata": {},
   "source": [
    "->  Object oriented programming does python support."
   ]
  },
  {
   "cell_type": "markdown",
   "id": "9e184f5e-90e6-454e-9cae-425fe28eea80",
   "metadata": {},
   "source": [
    "Q 3) Is python case sensitive when dealling with Identifiers ?"
   ]
  },
  {
   "cell_type": "markdown",
   "id": "a775f3b2-035f-452a-b70e-57f9ad680f33",
   "metadata": {},
   "source": [
    "-> Yes Python is case sensitive when dealling with identifiers."
   ]
  },
  {
   "cell_type": "markdown",
   "id": "a5f28093-6a51-4453-ba7a-c20e758562bc",
   "metadata": {},
   "source": [
    "Q 4) What is the correct extension of the python file ?\n"
   ]
  },
  {
   "cell_type": "markdown",
   "id": "699d0036-bf07-4479-a9a6-458f1f9bc373",
   "metadata": {},
   "source": [
    "-> .py is the correct extension of the python file."
   ]
  },
  {
   "cell_type": "markdown",
   "id": "8bed93a6-c7ff-4115-abcd-a6b8c3f96094",
   "metadata": {},
   "source": [
    "Q 5) Is python code  complied of Interpreted ?"
   ]
  },
  {
   "cell_type": "markdown",
   "id": "c71186da-ed04-4b72-b5cb-2d09c64e3ebd",
   "metadata": {},
   "source": [
    "-> Python is an interpreted language, which means the source code of a Python program is converted into bytecode that is then executed by the Python virtual machine"
   ]
  },
  {
   "cell_type": "markdown",
   "id": "de704cc0-c506-4a06-a844-ee5f9b289c26",
   "metadata": {},
   "source": [
    "Q 6) Name a few blocks of code used to define in python language ? \n"
   ]
  },
  {
   "cell_type": "markdown",
   "id": "a2eb09b9-52d7-4269-b827-5b32e78ed6d5",
   "metadata": {},
   "source": [
    "-> Thes are blocks is used to define in python language: a module, a function body, and a class definition"
   ]
  },
  {
   "cell_type": "markdown",
   "id": "bb69aeeb-d628-4d70-9f47-a9a58f1489f8",
   "metadata": {},
   "source": [
    "Q 7) State a character used to  give single-line comments in puthon ?"
   ]
  },
  {
   "cell_type": "markdown",
   "id": "133c71b0-b6e2-4d5e-ab4c-a42872fc0a4b",
   "metadata": {},
   "source": [
    "-> for single line comment in python we use the \"#\" symbol once or twice in th begining of line."
   ]
  },
  {
   "cell_type": "markdown",
   "id": "e357a8fe-85b1-4e45-9cd2-8234935148be",
   "metadata": {},
   "source": [
    "Q 8) Mention functions which can help us to find the version of python that we are currrently working on ? \n"
   ]
  },
  {
   "cell_type": "markdown",
   "id": "342b0c71-86c3-4290-a170-066de89a6f60",
   "metadata": {},
   "source": [
    "->  The function \"sys.version\" can help us to find the version of python that we are currently working on."
   ]
  },
  {
   "cell_type": "code",
   "execution_count": 5,
   "id": "3b04a37a-ec5f-4019-8957-44a224450b65",
   "metadata": {},
   "outputs": [
    {
     "name": "stdout",
     "output_type": "stream",
     "text": [
      "Python 3.10.8\n"
     ]
    }
   ],
   "source": [
    "!python --version\n"
   ]
  },
  {
   "cell_type": "markdown",
   "id": "58e3e5e1-d69b-4e7d-a1e7-f64ed7fc0793",
   "metadata": {},
   "source": [
    "Q 9) Python support the creation of ananymous functions at runtime using a construct called ?\n"
   ]
  },
  {
   "cell_type": "markdown",
   "id": "937a5b5c-9104-41e6-9007-a4abe9a0cea9",
   "metadata": {},
   "source": [
    "->  Python supports the creation of anonymous functions (i.e. functions that are not bound to a name) at runtime, using a construct called lambda.(function without name)"
   ]
  },
  {
   "cell_type": "markdown",
   "id": "a4faa313-610c-499c-ac05-5b84fa150b42",
   "metadata": {},
   "source": [
    "Q 10) What does pip stand for puthon ?"
   ]
  },
  {
   "cell_type": "markdown",
   "id": "d578ce11-ab45-429d-9362-ccfae98d0ce7",
   "metadata": {},
   "source": [
    "-> The pip stand for \"Preferred Installer program\"."
   ]
  },
  {
   "cell_type": "markdown",
   "id": "64dc7be5-216f-46d8-bf69-7a7571b3292e",
   "metadata": {},
   "source": [
    "Q 11) Mention a few built- in functions in python ?"
   ]
  },
  {
   "cell_type": "markdown",
   "id": "7f9b116f-5d29-4830-9ec2-cecb40f25128",
   "metadata": {},
   "source": [
    "abs()\t       Returns the absolute value of a number\n",
    "all()\t       Returns True if all items in an iterable object are true\n",
    "any()\t       Returns True if any item in an iterable object is true\n",
    "ascii()\t       Returns a readable version of an object. Replaces none-ascii characters with escape character\n",
    "bin()\t       Returns the binary version of a number\n",
    "bool()\t       Returns the boolean value of the specified object\n",
    "bytearray()\t   Returns an array of bytes\n",
    "bytes()        Returns a bytes object\n",
    "callable()\t   Returns True if the specified object is callable, otherwise False\n",
    "chr()\t       Returns a character from the specified Unicode code.\n",
    "classmethod()  Converts a method into a class method\n",
    "compile()\t   Returns the specified source as an object, ready to be executed\n",
    "complex()\t   Returns a complex number\n",
    "delattr()\t   Deletes the specified attribute (property or method) from the specified object\n",
    "dict()\t       Returns a dictionary (Array)\n",
    "dir()\t       Returns a list of the specified object's properties and methods\n",
    "divmod()\t   Returns the quotient and the remainder when argument1 is divided by argument2\n",
    "enumerate()\t   Takes a collection (e.g. a tuple) and returns it as an enumerate object\n",
    "eval()\t       Evaluates and executes an expression\n",
    "exec()\t       Executes the specified code (or object)\n",
    "filter()\t   Use a filter function to exclude items in an iterable object\n",
    "float()\t       Returns a floating point number\n",
    "format()\t   Formats a specified value\n",
    "frozenset()\t   Returns a frozenset object\n",
    "getattr()\t   Returns the value of the specified attribute (property or method)\n",
    "globals()\t   Returns the current global symbol table as a dictionary\n",
    "hasattr()\t   Returns True if the specified object has the specified attribute (property/method)\n",
    "hash()\t       Returns the hash value of a specified object\n",
    "help()\t       Executes the built-in help system\n",
    "hex()\t       Converts a number into a hexadecimal value\n",
    "id()\t       Returns the id of an object\n",
    "input()\t       Allowing user input\n",
    "int()\t       Returns an integer number\n",
    "isinstance()\tReturns True if a specified object is an instance of a specified object\n",
    "issubclass()\tReturns True if a specified class is a subclass of a specified object\n",
    "iter()\t        Returns an iterator object\n",
    "len()\t        Returns the length of an object\n",
    "list()\t        Returns a list\n",
    "locals()\t    Returns an updated dictionary of the current local symbol table\n",
    "map()\t        Returns the specified iterator with the specified function applied to each item\n",
    "max()\t        Returns the largest item in an iterable\n",
    "memoryvew()\t    Returns a memory view object\n",
    "min()\t        Returns the smallest item in an iterable\n",
    "next()\t        Returns the next item in an iterable\n",
    "object()\t    Returns a new object\n",
    "oct()\t        Converts a number into an octal\n",
    "open()\t        Opens a file and returns a file object\n",
    "ord()\t        Convert an integer representing the Unicode of the specified character\n",
    "pow()\t        Returns the value of x to the power of y\n",
    "print()\t        Prints to the standard output device\n",
    "property()\t     Gets, sets, deletes a property\n",
    "range()          Returns a sequence of numbers, starting from 0 and increments by 1 (by default)\n",
    "repr()\t         Returns a readable version of an object\n",
    "reversed()\t     Returns a reversed iterator\n",
    "round()\t         Rounds a numbers\n",
    "set()\t         Returns a new set object\n",
    "setattr()\t     Sets an attribute (property/method) of an object\n",
    "slice()        \t Returns a slice object\n",
    "sorted()\t     Returns a sorted list\n",
    "staticmethod()\t Converts a method into a static method\n",
    "str()\t         Returns a string object\n",
    "sum()\t         Sums the items of an iterator\n",
    "super()\t         Returns an object that represents the parent class\n",
    "tuple()\t         Rturns a tuple\n",
    "type()\t         Returns the type of an object\n",
    "vars()\t         Returns the __dict__ property of an object\n",
    "zip()\t         Returns an iterator, from two or more iterators"
   ]
  },
  {
   "cell_type": "markdown",
   "id": "ed151f52-fcf0-487e-8c0b-4d8d44570053",
   "metadata": {},
   "source": [
    "Q 12) What is the maximum possible length of an identifier in python ?"
   ]
  },
  {
   "cell_type": "markdown",
   "id": "9bd36e42-d646-4ee7-a5fa-55e62d0ca7a8",
   "metadata": {},
   "source": [
    "-> 79 is the maximum possible length of identifier in python ."
   ]
  },
  {
   "cell_type": "markdown",
   "id": "6fb6f2f0-9047-434c-bc44-bf0785cec877",
   "metadata": {},
   "source": [
    "Q 13) What are the benefits of using python ?"
   ]
  },
  {
   "cell_type": "markdown",
   "id": "5573d927-4bd5-4362-9d79-ad847b55ad20",
   "metadata": {},
   "source": [
    "-> easy to learn, most used in companys , flexible , librari rich, used in all filds like ml , dl , game development, app development etc"
   ]
  },
  {
   "cell_type": "markdown",
   "id": "1e30e399-5552-4bf1-a59f-6bf2b69da619",
   "metadata": {},
   "source": [
    "Q 14) How is memory managed in python ?"
   ]
  },
  {
   "cell_type": "markdown",
   "id": "6be8d7e6-2147-4b91-bf72-974f70bbf565",
   "metadata": {},
   "source": [
    "->  Python uses the dynamic memory allocation which is managed by the Heap data structure. Memory Heap holds the objects and other data structures that will be used in the program. Python memory manager manages the allocation or de-allocation of the heap memory space through the API functions."
   ]
  },
  {
   "cell_type": "markdown",
   "id": "972570ab-db52-45ce-8b50-ecc812d46289",
   "metadata": {},
   "source": [
    "Q 15) How to install python on Windos and set path variables ?"
   ]
  },
  {
   "cell_type": "markdown",
   "id": "023c2e8a-fe32-46f5-9b3e-8d86f7625645",
   "metadata": {},
   "source": [
    "-> install python using \"install python.org \"on browers and then chech the file python.exe after installing \n",
    "then follow the below :\n",
    "The complete path of python.exe can be added by:\n",
    "\n",
    "Right-clicking This PC and going to Properties.\n",
    "\n",
    "Clicking on the Advanced system settings in the menu on the left.\n",
    "\n",
    "Clicking on the Environment Variables button o​n the bottom right.\n",
    "\n",
    "In the System variables section, selecting the Path variable and clicking on Edit. The next screen will show all the directories that are currently a part of the PATH variable.\n",
    "\n",
    "Clicking on New and entering Python’s install directory."
   ]
  },
  {
   "cell_type": "markdown",
   "id": "5c5eceb4-426f-415c-b5d5-da175e4fc102",
   "metadata": {},
   "source": [
    "Q 16) is  indentation required in python ?"
   ]
  },
  {
   "cell_type": "markdown",
   "id": "aea50c1a-b981-4033-9eef-099bb2a4821d",
   "metadata": {},
   "source": [
    "-> Yes, indentation is required in python because the python language is not use curly brackets for codefo blocks it use the indentation . indentation is the collecton of spaces or 1 tab."
   ]
  }
 ],
 "metadata": {
  "kernelspec": {
   "display_name": "Python 3 (ipykernel)",
   "language": "python",
   "name": "python3"
  },
  "language_info": {
   "codemirror_mode": {
    "name": "ipython",
    "version": 3
   },
   "file_extension": ".py",
   "mimetype": "text/x-python",
   "name": "python",
   "nbconvert_exporter": "python",
   "pygments_lexer": "ipython3",
   "version": "3.10.8"
  }
 },
 "nbformat": 4,
 "nbformat_minor": 5
}
