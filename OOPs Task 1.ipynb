{
 "cells": [
  {
   "cell_type": "markdown",
   "id": "020cd0f6-bb5a-4b3a-9cd1-07fe97d69fa8",
   "metadata": {},
   "source": [
    "### Q1, Create a vehicle class with an init method having instance variables as name_of_vehicle, max_speed and average_of_vehicle."
   ]
  },
  {
   "cell_type": "code",
   "execution_count": 4,
   "id": "81cf96d8-58a4-49f3-b6ad-86ac0a14c3f8",
   "metadata": {},
   "outputs": [],
   "source": [
    "class vehicle:\n",
    "\n",
    "    def __init__(self,name, speed, average):\n",
    "        self.name = name\n",
    "        self.speed = speed\n",
    "        self.average= average\n",
    "\n",
    "    def display(self):\n",
    "        print(f\"Vehicle Name: {self.name}\")\n",
    "        print(f\"Max Speed: {self.speed} km/h\")\n",
    "        print(f\"Average Speed: {self.average} km/h\")"
   ]
  },
  {
   "cell_type": "code",
   "execution_count": 8,
   "id": "0ae50223-4786-43f1-a58c-699105737349",
   "metadata": {},
   "outputs": [],
   "source": [
    "Tata = vehicle('Thar',200,15)"
   ]
  },
  {
   "cell_type": "code",
   "execution_count": 10,
   "id": "076dccc4-3369-4259-9d8e-e22e6faf9562",
   "metadata": {},
   "outputs": [
    {
     "name": "stdout",
     "output_type": "stream",
     "text": [
      "Vehicle Name: Thar\n",
      "Max Speed: 200 km/h\n",
      "Average Speed: 15 km/h\n"
     ]
    }
   ],
   "source": [
    "Tata.display()"
   ]
  },
  {
   "cell_type": "markdown",
   "id": "7fdd0bc5-507d-4467-904a-844e015500ec",
   "metadata": {},
   "source": [
    "### Q2. Create a child class car from the vehicle class created in Que 1, which will inherit the vehicle class. Create a method named seating_capacity which takes capacity as an argument and returns the name of the vehicle and its seating capacity."
   ]
  },
  {
   "cell_type": "code",
   "execution_count": 12,
   "id": "41db7759-4c16-431a-a7c1-ca96d1fb9a01",
   "metadata": {},
   "outputs": [],
   "source": [
    "class child_car(vehicle):\n",
    "\n",
    "    def seating_capacity(self, capacity):\n",
    "        self.capacity = capacity\n",
    "        return f\"The {self.name} has a seating capacity of {capacity} passengers.\""
   ]
  },
  {
   "cell_type": "code",
   "execution_count": 16,
   "id": "c1873eeb-b757-4807-8f96-6b81f1031ce3",
   "metadata": {},
   "outputs": [],
   "source": [
    "car1 = child_car('sumo',123,23)"
   ]
  },
  {
   "cell_type": "code",
   "execution_count": 18,
   "id": "9baf0e32-4697-473d-b021-8706ad1c9430",
   "metadata": {},
   "outputs": [
    {
     "data": {
      "text/plain": [
       "'The sumo has a seating capacity of 10 passengers.'"
      ]
     },
     "execution_count": 18,
     "metadata": {},
     "output_type": "execute_result"
    }
   ],
   "source": [
    "car1.seating_capacity(10)"
   ]
  },
  {
   "cell_type": "markdown",
   "id": "b185b67a-7a66-46ed-9f6b-3b40dc4ba06b",
   "metadata": {},
   "source": [
    "### Q3. What is multiple inheritance? Write a python code to demonstrate multiple inheritance.\n",
    "\n",
    "### Ans:\n",
    "Multiple inheritance is a feature in object-oriented programming where a class can inherit attributes and methods from more than one parent class. Python supports multiple inheritance, allowing a class to derive from multiple base classes."
   ]
  },
  {
   "cell_type": "code",
   "execution_count": 38,
   "id": "6aa9b392-04f9-4c78-b6cb-c8b72b063944",
   "metadata": {},
   "outputs": [],
   "source": [
    "class college:\n",
    "    def admision(self):\n",
    "        return \"Adimision is confirm\"\n",
    "\n",
    "class Class():\n",
    "    def start(self):\n",
    "        return \"Class is start.\"\n",
    "\n",
    "\n",
    "class student(college, Class):\n",
    "    def Attend_lec(self):\n",
    "        return \"students attending the lecture.\"\n"
   ]
  },
  {
   "cell_type": "code",
   "execution_count": 40,
   "id": "46569c37-91dc-4fe1-b2c3-c3af05eb01ce",
   "metadata": {},
   "outputs": [],
   "source": [
    "Ram = student()"
   ]
  },
  {
   "cell_type": "code",
   "execution_count": 50,
   "id": "d6af4f57-2518-4e94-9e76-d7fed3660a95",
   "metadata": {},
   "outputs": [
    {
     "name": "stdout",
     "output_type": "stream",
     "text": [
      "Adimision is confirm\n",
      "Class is start.\n",
      "students attending the lecture.\n"
     ]
    }
   ],
   "source": [
    "print(Ram.admision())\n",
    "print(Ram.start())\n",
    "print(Ram.Attend_lec())\n"
   ]
  },
  {
   "cell_type": "markdown",
   "id": "4a5d3325-5436-4c60-a64b-7393abbd928d",
   "metadata": {},
   "source": [
    "### Q4. What are getter and setter in python? Create a class and create a getter and a setter method in this class.\n",
    "\n",
    "### Ans:\n",
    "In Python, getters and setters are methods used to access (get) and modify (set) the values of private attributes in a class. These methods provide a controlled way to interact with class attributes, ensuring encapsulation and validation of data.\n",
    "\n",
    "Getter: Used to retrieve the value of a private attribute.\n",
    "\n",
    "Setter: Used to update the value of a private attribute, often with validation logic.\n",
    "\n",
    "In Python, the @property decorator is commonly used to create getters, and the @<property_name>.setter decorator is used to define the corresponding setter."
   ]
  },
  {
   "cell_type": "code",
   "execution_count": 15,
   "id": "50de4e53-bb87-42f8-a127-283c98b1fd31",
   "metadata": {},
   "outputs": [],
   "source": [
    "class car:\n",
    "    def __init__(self, year, make, model, speed):\n",
    "\n",
    "        self.__year = year\n",
    "        self.__make = make\n",
    "        self.__model = model\n",
    "        self.__speed = speed\n",
    "\n",
    "    def set_speed(self, speed):             # we can use any name like Abhi / set_speed\n",
    "        self.__speed = 0 if speed < 0 else speed\n",
    "\n",
    "\n",
    "    def get_speed(self):\n",
    "        return self.__speed"
   ]
  },
  {
   "cell_type": "code",
   "execution_count": 17,
   "id": "0f82cb2f-ae30-4686-840d-07bda7cc0fd8",
   "metadata": {},
   "outputs": [
    {
     "data": {
      "text/plain": [
       "140"
      ]
     },
     "execution_count": 17,
     "metadata": {},
     "output_type": "execute_result"
    }
   ],
   "source": [
    "yamaha = car(1996,\"yamaha\",'c2',140)\n",
    "yamaha.set_speed(240)\n",
    "yamaha.get_speed()"
   ]
  },
  {
   "cell_type": "markdown",
   "id": "85c2ff83-43fe-459a-9e2f-04263fff7ece",
   "metadata": {},
   "source": [
    "### Q5.What is method overriding in python? Write a python code to demonstrate method overriding.\n",
    "\n",
    "### Ans:\n",
    "Method overriding in Python occurs when a subclass provides a specific implementation of a method that is already defined in its parent class. The subclass's method will override the parent class's method when it is called using an object of the subclass.\n",
    "\n",
    "Method overriding is commonly used in object-oriented programming to allow a subclass to modify or enhance the behavior of a parent class method."
   ]
  },
  {
   "cell_type": "code",
   "execution_count": 37,
   "id": "6804bf75-ec8e-40cd-aec5-60ec6b70557b",
   "metadata": {},
   "outputs": [
    {
     "name": "stdout",
     "output_type": "stream",
     "text": [
      "Cars used for travling for long distance\n",
      "Bick used for travling near by places\n",
      "vehical used to travling\n"
     ]
    }
   ],
   "source": [
    "class vehical:\n",
    "    def Travling(self):\n",
    "        return \"vehical used to travling\"\n",
    "\n",
    "class bike(vehical):\n",
    "    def Travling(self):\n",
    "        return \"Bick used for travling near by places\"\n",
    "\n",
    "class car(vehical):\n",
    "    def Travling(self):\n",
    "        return \"Cars used for travling for long distance\"\n",
    "\n",
    "\n",
    "general = vehical()\n",
    "Dhum = bike()\n",
    "BMW = car()\n",
    "\n",
    "\n",
    "\n",
    "print(BMW.Travling())\n",
    "\n",
    "print(Dhum.Travling())\n",
    "print(general.Travling())"
   ]
  },
  {
   "cell_type": "code",
   "execution_count": null,
   "id": "38249db6-c894-4dac-bc57-4f5a281b5429",
   "metadata": {},
   "outputs": [],
   "source": []
  }
 ],
 "metadata": {
  "kernelspec": {
   "display_name": "Python 3 (ipykernel)",
   "language": "python",
   "name": "python3"
  },
  "language_info": {
   "codemirror_mode": {
    "name": "ipython",
    "version": 3
   },
   "file_extension": ".py",
   "mimetype": "text/x-python",
   "name": "python",
   "nbconvert_exporter": "python",
   "pygments_lexer": "ipython3",
   "version": "3.12.4"
  }
 },
 "nbformat": 4,
 "nbformat_minor": 5
}
