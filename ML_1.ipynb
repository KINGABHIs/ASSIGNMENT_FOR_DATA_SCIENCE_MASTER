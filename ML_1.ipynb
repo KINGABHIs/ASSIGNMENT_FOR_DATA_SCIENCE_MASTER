{
 "cells": [
  {
   "cell_type": "markdown",
   "id": "180e0199-dc64-44a2-9a4a-83b63efad4d8",
   "metadata": {},
   "source": [
    "# Assignment"
   ]
  },
  {
   "cell_type": "markdown",
   "id": "8a906337-fd0c-464b-a9ed-82632fdf1485",
   "metadata": {},
   "source": [
    "## Q1) Explain the following with an example:"
   ]
  },
  {
   "cell_type": "markdown",
   "id": "a699459a-70ad-4c78-a92f-5bf06281e19f",
   "metadata": {},
   "source": [
    "### 1. Artificial Intelligence -"
   ]
  },
  {
   "cell_type": "markdown",
   "id": "fc472a61-f235-4450-b421-1510b64d7caa",
   "metadata": {},
   "source": [
    "The term \"Artificial Intelligence\" refers to the simulation of human intelligence \n",
    "processes by machines, especially computer systems. It also includes Expert systems, \n",
    "voice recognition, machine vision, and natural language processing (NLP)."
   ]
  },
  {
   "cell_type": "raw",
   "id": "e54776b6-d72a-401b-87b1-c40e5df401cc",
   "metadata": {},
   "source": [
    "Example:\n",
    "Let's consider a virtual assistant like Siri, developed by Apple. Siri is an example of AI\n",
    "technology that utilizes natural language processing (NLP) and machine learning algorithms\n",
    "to understand and respond to user commands and queries.\n",
    "\n",
    "Learning: Initially, Siri is programmed with basic commands and responses. However, over \n",
    "time, as users interact with Siri, it learns from these interactions. For instance, if a\n",
    "user asks Siri to set an alarm at a specific time and then confirms or corrects the time, \n",
    "Siri learns from this interaction and improves its ability to understand similar commands\n",
    "in the future.\n",
    "\n",
    "Reasoning: When a user asks Siri a question, it analyzes the query based on its programming\n",
    "and the data it has access to. For example, if a user asks, \"What's the weather like today?\"\n",
    "Siri reasons through its algorithms to determine the current location of the user, retrieve \n",
    "weather data from a reliable source, and provide a response based on that data.\n",
    "\n",
    "Self-correction: If Siri provides an incorrect response or fails to understand a command, it \n",
    "has mechanisms to self-correct. For instance, if a user asks for directions to a particular \n",
    "location, and Siri provides directions to the wrong place, the user might correct Siri by \n",
    "providing more specific information or selecting from alternative suggestions. Siri then learns\n",
    "from this correction to improve its accuracy in similar situations in the future."
   ]
  },
  {
   "cell_type": "markdown",
   "id": "5f4bcd27-7030-490c-883e-ffa13a8728e2",
   "metadata": {},
   "source": [
    "### 2.Machine Learning -\n"
   ]
  },
  {
   "cell_type": "raw",
   "id": "18fd0290-2747-44b6-9632-4de97ddd92eb",
   "metadata": {},
   "source": [
    "\n",
    "Machine Learning (ML) is a subset of artificial intelligence that focuses on the development of\n",
    "algorithms and statistical models that enable computers to learn and improve their performance \n",
    "on a specific task without being explicitly programmed. In other words, it allows computers to \n",
    "learn from data and make predictions or decisions based on that learning."
   ]
  },
  {
   "cell_type": "raw",
   "id": "b433f630-aeb7-4286-96c2-230a3c2ca561",
   "metadata": {},
   "source": [
    "Example:\n",
    "Let's consider the task of email spam detection, a classic example of machine learning application.\n",
    "\n",
    "Data Collection: Initially, a large dataset of emails needs to be collected, consisting of both spam \n",
    "and non-spam (ham) emails.\n",
    "\n",
    "Data Preprocessing: The collected emails need to be preprocessed to extract relevant features. This \n",
    "could involve tasks such as removing stop words, tokenization, and converting text data into numerical\n",
    "representations.\n",
    "\n",
    "Training Phase: The preprocessed data is then used to train a machine learning model. In this example,\n",
    "a common approach is to use a supervised learning algorithm such as a Support Vector Machine (SVM) or \n",
    "a Naive Bayes classifier. The model is trained using the features extracted from the emails as input \n",
    "and their corresponding labels (spam or non-spam) as output.\n",
    "\n",
    "Model Evaluation: Once the model is trained, it needs to be evaluated to assess its performance.\n",
    "This involves testing the model on a separate dataset (not used during training) to measure its \n",
    "accuracy, precision, recall, and other performance metrics.\n",
    "\n",
    "Deployment: If the model performs satisfactorily during evaluation, it can be deployed into production\n",
    "for real-time spam detection. New incoming emails can be passed through the trained model, which will \n",
    "then classify them as spam or non-spam based on what it learned during the training phase.\n",
    "\n",
    "Feedback Loop: As the model encounters new data in production, it continues to learn and adapt.\n",
    "Feedback mechanisms can be implemented to update the model periodically with new information, \n",
    "allowing it to improve its performance over time."
   ]
  },
  {
   "cell_type": "markdown",
   "id": "3f0496a8-5cb6-46c2-b62d-397608adabb0",
   "metadata": {},
   "source": [
    "### 3.Deep learning -\n"
   ]
  },
  {
   "cell_type": "markdown",
   "id": "0b4de501-856f-4e2f-acee-a6728fa1de2a",
   "metadata": {},
   "source": [
    "Deep Learning is a subset of machine learning that utilizes neural networks with multiple layers\n",
    "(hence the term \"deep\") to learn complex patterns in large amounts of data. It is inspired by the\n",
    "structure and function of the human brain, specifically the interconnected networks of neurons.\n",
    "\n",
    "Example:\n",
    "Consider the task of image recognition, a common application of deep learning.\n",
    "\n",
    "Data Collection: A large dataset of images, each labeled with the object or category it contains, \n",
    "is collected. This dataset may include thousands or even millions of images.\n",
    "\n",
    "Data Preprocessing: The images are preprocessed to standardize their size, color, and format. This\n",
    "ensures consistency and reduces the computational complexity of the deep learning model.\n",
    "\n",
    "Architecture Design: A deep neural network architecture is designed for the task of image \n",
    "recognition. This architecture typically consists of multiple layers, including convolutional \n",
    "layers for feature extraction and pooling layers for dimensionality reduction.\n",
    "\n",
    "Training Phase: The preprocessed images are used to train the deep learning model. During training, \n",
    "the model learns to automatically extract hierarchical features from the images and map them to their \n",
    "corresponding labels. This process involves adjusting the weights and biases of the network's neurons \n",
    "through a process called backpropagation, guided by an optimization algorithm such as stochastic \n",
    "gradient descent.\n",
    "\n",
    "Model Evaluation: Once training is complete, the trained model is evaluated on a separate dataset \n",
    "(not used during training) to assess its performance. This evaluation measures metrics such as\n",
    "accuracy, precision, recall, and F1 score to gauge how well the model can recognize objects in \n",
    "unseen images.\n",
    "\n",
    "Deployment: If the model performs satisfactorily during evaluation, it can be deployed into production\n",
    "for real-time image recognition. New images can be passed through the trained model, which will then\n",
    "classify them into different categories based on the patterns learned during training.\n",
    "\n",
    "Fine-tuning and Iteration: Deep learning models often require fine-tuning and iteration to optimize\n",
    "their performance further. This may involve adjusting hyperparameters, experimenting with different\n",
    "architectures, or collecting more data to address specific challenges or improve accuracy."
   ]
  },
  {
   "cell_type": "markdown",
   "id": "5b11d2ea-24e7-4772-bae7-a00f54833c08",
   "metadata": {},
   "source": [
    "## Q2: What is supervised learning ? List some examples of supervised learning."
   ]
  },
  {
   "cell_type": "raw",
   "id": "80e3fc68-6a7b-4620-8896-61dbd99f9f55",
   "metadata": {},
   "source": [
    "Supervised learning is a type of machine learning where the algorithm learns from labeled data, \n",
    "which means each input data point is associated with a corresponding target label . The algorithm's \n",
    "goal is to learn a mapping from input features to the target labels, allowing it to make predictions \n",
    "on new, unseen data.\n",
    "\n",
    "In supervised learning, the algorithm is provided with a training dataset containing input-output pairs.\n",
    "During the training process, the algorithm adjusts its parameters based on the input-output pairs to minimize \n",
    "the difference between the predicted outputs and the actual outputs.This process continues ireratively until \n",
    "until the algorithm achieves an acceptable level of accuracy.\n",
    "\n",
    "Examples of supervised learning include:\n",
    "1. LINEAR REGRESSION: Predicting house prices based on features such as size, number of bedroom\n",
    "\n",
    "2. Decision trees\n",
    "A flow-chart-like tree structure that uses a branching method to illustrate every possible outcome of a decision. \n",
    "\n",
    "3. Bayesian inference\n",
    "A way of thinking of the models, parameters, and estimating them.\n",
    "\n",
    "4. Random forest\n",
    "A common supervised learning technique that consists of multiple decision trees on the different subsets of the initial dataset."
   ]
  },
  {
   "cell_type": "markdown",
   "id": "7d3caf29-c3d6-4103-b370-28f408f04e6b",
   "metadata": {},
   "source": [
    "## Q3what is unsupervised learning? list some examples of unsupervised learning."
   ]
  },
  {
   "cell_type": "raw",
   "id": "1b33d2ae-1fa3-4ad5-ae89-3ca9dcf115bf",
   "metadata": {},
   "source": [
    "Unsupervised learning is a machine learning technique that identifies patterns in data without human intervention. The algorithm learns patterns from unlabeled data, and then can build a concise representation of the world and generate content from it.\n",
    "\n",
    "examples of unsupervised learning :\n",
    "\n",
    "1. Clustering\n",
    "Groups similar data into clusters. For example, you might group data by temperature, or by different types of weather like rain, sleet, or snow.\n",
    "\n",
    "\n",
    "2. Association rules\n",
    "Discovers relationships between variables in large datasets. For example, you might use this technique for recommender systems and target marketing.\n"
   ]
  },
  {
   "cell_type": "markdown",
   "id": "c5e0773e-8df7-45fe-8488-378089f3dc2b",
   "metadata": {},
   "source": [
    "## Q4 what is difference between AI ,ML, DL and DS?\n"
   ]
  },
  {
   "cell_type": "raw",
   "id": "9fb352d1-5fba-4e15-bf89-90aa5e612354",
   "metadata": {},
   "source": [
    "AI = 1. AI stands for Artificial Intelligence, and is basically the study/process which enables machines to mimic human behaviour through particular algorithm.\n",
    "\n",
    "2. AI is the broader family consisting of ML and DL as it’s components.\n",
    "3. AI is a computer algorithm which exhibits intelligence through decision making.\n",
    "4. AI is a computer algorithm which exhibits intelligence through decision making.\n",
    "\n",
    "ML = 1. ML stands for Machine Learning, and is the study that uses statistical methods enabling machines to improve with experience.\n",
    "\n",
    "2. ML is the subset of AI.\t\n",
    "3. ML is an AI algorithm which allows system to learn from data.\n",
    "4. If you have a clear idea about the logic(math) involved in behind and you can visualize the complex functionalities like K-Mean, Support Vector Machines, etc., then it defines the ML aspect.\n",
    "\n",
    "DL = 1. DL stands for Deep Learning, and is the study that makes use of Neural Networks(similar to neurons present in human brain) to imitate functionality just like a human brain.\n",
    "\n",
    "2. DL is the subset of ML.\n",
    "3. DL is a ML algorithm that uses deep(more than one layer) neural networks to analyze data and provide output accordingly.\n",
    "4.If you are clear about the math involved in it but don’t have idea about the features, so you break the complex functionalities into linear/lower dimension features by adding more layers, then it defines the DL aspect.\n",
    "\n",
    "DS = 1. Data science combines various fields. for example Statistics, Computer Science, Domain Specific Knowledge, Visualization, data engineering techniques, data quality techniques, and data profiling techniques to analyze and interpret complex data sets.\n",
    "\n",
    "2. Data Science involves tasks such as data cleaning, data preprocessing, data analysis, data visualization, and data interpretation.\n",
    "3.you should have all the core knowledge of analyzing and interpreting data. \n",
    "4. Create an AI system with the help of Machine learning techniques.\n",
    "\n"
   ]
  },
  {
   "cell_type": "markdown",
   "id": "fd68b893-0463-4963-932c-636038ab42e8",
   "metadata": {},
   "source": [
    "## Q5 what are the main defferences between supervised, unsupervised, and semi-supervised learning?"
   ]
  },
  {
   "cell_type": "raw",
   "id": "43bbe7cd-b67d-4646-9582-89bbffeaf23f",
   "metadata": {},
   "source": [
    "Supervised Learning:\n",
    "\n",
    "    In supervised learning, the algorithm is trained on a labeled dataset, where each example is associated with a target label or outcome.\n",
    "The goal is to learn a mapping from input features to the corresponding output labels.\n",
    "    During training, the algorithm adjusts its parameters to minimize the difference between predicted outputs and actual labels.\n",
    "    Common supervised learning algorithms include linear regression, logistic regression, support vector machines (SVM), decision trees, random forests, and neural networks.\n",
    "    Supervised learning is typically used for tasks such as classification (assigning categories to inputs) and regression (predicting continuous values).\n",
    "    \n",
    "Unsupervised Learning:\n",
    "\n",
    "    In unsupervised learning, the algorithm is presented with input data without explicit labels or targets.\n",
    "The goal is to extract meaningful patterns or structures from the data without any guidance.\n",
    "    Common tasks in unsupervised learning include clustering, dimensionality reduction, density estimation, and anomaly detection.\n",
    "    Clustering algorithms such as k-means, hierarchical clustering, and DBSCAN group similar data points together.\n",
    "    Dimensionality reduction techniques like principal component analysis (PCA) and t-distributed stochastic neighbor embedding (t-SNE) aim to reduce the number of features while preserving essential information.\n",
    "\n",
    "Semi-Supervised Learning:\n",
    "\n",
    "    Semi-supervised learning lies between supervised and unsupervised learning. It deals with scenarios where the dataset contains both labeled and unlabeled examples.\n",
    "    The algorithm leverages both labeled and unlabeled data during training to improve performance.\n",
    "    Typically, the labeled data is scarce or expensive to obtain, while unlabeled data is abundant.\n",
    "    Semi-supervised learning algorithms aim to exploit the structure or distribution of the data to make predictions on both labeled and unlabeled instances more accurately.\n",
    "    Techniques in semi-supervised learning include self-training, co-training, and label propagation.\n",
    "    Semi-supervised learning is useful in situations where obtaining labeled data is difficult or costly, but unlabeled data is readily available."
   ]
  },
  {
   "cell_type": "markdown",
   "id": "10dc6380-f62d-4b79-8232-65cd6e39aec9",
   "metadata": {},
   "source": [
    "## Q6 what is train test and validation split ? explain the impotrance of each term"
   ]
  },
  {
   "cell_type": "raw",
   "id": "be1b4dcb-8e68-462c-bd50-eb9530f872b7",
   "metadata": {},
   "source": [
    "Data splitting divides a dataset into three main subsets: \n",
    "The training set, used to train the model;\n",
    "The validation set, used to track model parameters and avoid overfitting;\n",
    "The testing set, used for checking the model’s performance on new data. \n",
    "\n",
    "Each subset serves a unique purpose in the iterative process of developing a machine-learning model."
   ]
  },
  {
   "cell_type": "markdown",
   "id": "7b500550-27ef-47e7-9428-81399c8a1fd5",
   "metadata": {},
   "source": [
    "## Q7 How can unsupervised learning be used in anomaly detection?"
   ]
  },
  {
   "cell_type": "raw",
   "id": "dba94f60-6ee7-44f8-a05c-209141ddec5e",
   "metadata": {},
   "source": [
    "Unsupervised learning is a type of machine learning that learns from unlabeled data, without any pre-existing labels or categories. It can be used for anomaly detection, which is the process of identifying rare events, items, or observations that differ significantly from standard behaviors or patterns. Unsupervised learning can identify normal patterns within a data sample and then detect outliers based on the natural characteristics of the data set itself\n",
    "\n",
    "    Unsupervised learning is useful when there are no labeled datasets available or when anomalies are rare and difficult to find. These techniques can go a long way in discovering unknown anomalies and reducing the work of manually sifting through large data sets"
   ]
  },
  {
   "cell_type": "markdown",
   "id": "f2473b79-a823-422e-8855-5dac2dc91420",
   "metadata": {},
   "source": [
    "## Q8 List down some commpnly used supervised learning algorithms and unsupervised learning algorithm."
   ]
  },
  {
   "cell_type": "raw",
   "id": "f993528c-edd9-4f52-86fa-0fd2b0301c5e",
   "metadata": {},
   "source": [
    "Here are some commonly used supervised learning algorithms:\n",
    "Decision tree\n",
    "Logistic regression\n",
    "Linear regression\n",
    "Support vector machine\n",
    "Random forest\n",
    "Naive Bayes\n",
    "K-Nearest Neighbors (KNN)\n",
    "Gradient Boosting Machines (GBM)\n",
    "Neural networks\n",
    "AdaBoost\n",
    "\n",
    "Here are some commonly used unsupervised learning algorithms:\n",
    "K-means clustering\n",
    "Hierarchical clustering\n",
    "Apriori algorithm\n",
    "Principal Component Analysis (PCA)\n",
    "t-Distributed Stochastic Neighbor Embedding (t-SNE)\n",
    "Autoencoders"
   ]
  }
 ],
 "metadata": {
  "kernelspec": {
   "display_name": "Python 3 (ipykernel)",
   "language": "python",
   "name": "python3"
  },
  "language_info": {
   "codemirror_mode": {
    "name": "ipython",
    "version": 3
   },
   "file_extension": ".py",
   "mimetype": "text/x-python",
   "name": "python",
   "nbconvert_exporter": "python",
   "pygments_lexer": "ipython3",
   "version": "3.10.8"
  }
 },
 "nbformat": 4,
 "nbformat_minor": 5
}
