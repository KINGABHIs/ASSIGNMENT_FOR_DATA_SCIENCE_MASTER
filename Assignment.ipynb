{
 "cells": [
  {
   "attachments": {},
   "cell_type": "markdown",
   "id": "f09c93e3-f357-486b-8f9d-e460d3ffa69f",
   "metadata": {},
   "source": [
    "Q1. Explain with an example each when to use a for loop and a while loop."
   ]
  },
  {
   "attachments": {},
   "cell_type": "markdown",
   "id": "a2e048b9-b37f-4631-b442-e92b43570c32",
   "metadata": {},
   "source": [
    "-> ## forloop :- For loop is used when we know the iteration means how many times we execute the  loop ."
   ]
  },
  {
   "cell_type": "code",
   "execution_count": 1,
   "id": "f1afa049-4a86-4734-ab7e-82dd95c9c946",
   "metadata": {},
   "outputs": [
    {
     "name": "stdout",
     "output_type": "stream",
     "text": [
      "mango\n",
      "apple\n",
      "banana\n",
      "watermelon\n",
      "stroberi\n"
     ]
    }
   ],
   "source": [
    "l = [\"mango\", \"apple\", \"banana\", \"watermelon\", \"stroberi\"]\n",
    "for i in l:\n",
    "    print(i)"
   ]
  },
  {
   "attachments": {},
   "cell_type": "markdown",
   "id": "dcc6bf2a-345f-4952-a3b3-23819af9ae68",
   "metadata": {},
   "source": [
    "->## While loop :- while loop is used when we unknown about the iteration in the program."
   ]
  },
  {
   "cell_type": "code",
   "execution_count": 5,
   "id": "57a4ac9b-56a4-4e6d-a548-e01a06cde3a0",
   "metadata": {},
   "outputs": [
    {
     "name": "stdout",
     "output_type": "stream",
     "text": [
      "Enter any number : 5\n"
     ]
    },
    {
     "name": "stdout",
     "output_type": "stream",
     "text": [
      "1\n",
      "2\n",
      "3\n",
      "4\n",
      "5\n"
     ]
    }
   ],
   "source": [
    "num = int(input(\"Enter any number :\"))\n",
    "i = 1\n",
    "while i <= num:\n",
    "    print(i)\n",
    "    i = i+1\n",
    "    "
   ]
  },
  {
   "attachments": {},
   "cell_type": "markdown",
   "id": "9b444c44-f50c-425e-8daf-d33e712e955a",
   "metadata": {},
   "source": [
    "Q2. Write a python program to print the sum and product of the first 10 natural numbers using for\n",
    "and while loop."
   ]
  },
  {
   "attachments": {},
   "cell_type": "markdown",
   "id": "534c9406-cbb2-499b-8e77-d078c4305e7e",
   "metadata": {},
   "source": [
    "# use of for loop"
   ]
  },
  {
   "cell_type": "code",
   "execution_count": 3,
   "id": "aebff208-715b-40b5-9559-57b93a516e6a",
   "metadata": {},
   "outputs": [
    {
     "name": "stdout",
     "output_type": "stream",
     "text": [
      "The total sum of natural  number is : 55\n",
      "the poduct of 10 natural numbers is : 3628800\n"
     ]
    }
   ],
   "source": [
    "#num = int(input(\"Enter any natural number\"))\n",
    "num = 10\n",
    "result = 0\n",
    "product = 1\n",
    "for i in range(1,num+1):\n",
    "    result = result + i\n",
    "    product= product*i\n",
    "    \n",
    "print(\"The total sum of natural  number is :\", result)\n",
    "print(\"the poduct of 10 natural numbers is :\", product)"
   ]
  },
  {
   "attachments": {},
   "cell_type": "markdown",
   "id": "d780d8ca-b1c3-4f8b-af76-26a7f750d1bd",
   "metadata": {},
   "source": [
    "# use while loop"
   ]
  },
  {
   "cell_type": "code",
   "execution_count": 26,
   "id": "a9c66ab6-0800-4808-baa6-970968ffdc5c",
   "metadata": {},
   "outputs": [
    {
     "name": "stdout",
     "output_type": "stream",
     "text": [
      "The total sum of natural  number is : 55\n",
      "the poduct of 10 natural numbers is : 3628800\n"
     ]
    }
   ],
   "source": [
    "num = 10 \n",
    "result = 0 \n",
    "product = 1\n",
    "i = 1\n",
    "while i <= num:\n",
    "    result = result + i \n",
    "    product = product * i\n",
    "    i = i + 1\n",
    "    \n",
    "print(\"The total sum of natural  number is :\", result)\n",
    "print(\"the poduct of 10 natural numbers is :\", product)"
   ]
  },
  {
   "attachments": {},
   "cell_type": "markdown",
   "id": "34f5a831-07c9-473c-b66a-ccba2be3c3af",
   "metadata": {},
   "source": [
    "Q3. Create a python program to compute the electricity bill for a household.\n",
    "\n",
    "The per-unit charges in rupees are as follows: For the first 100 units, the user will be charged Rs. 4.5 per\n",
    "unit, for the next 100 units, the user will be charged Rs. 6 per unit, and for the next 100 units, the user will\n",
    "be charged Rs. 10 per unit, After 300 units and above the user will be charged Rs. 20 per unit.\n",
    "\n",
    "You are required to take the units of electricity consumed in a month from the user as input.\n",
    "\n",
    "Your program must pass this test case: when the unit of electricity consumed by the user in a month is\n",
    "310, the total electricity bill should be 2250."
   ]
  },
  {
   "cell_type": "code",
   "execution_count": 24,
   "id": "933711b0-8418-49a5-86c6-84259f39c0cd",
   "metadata": {},
   "outputs": [
    {
     "name": "stdout",
     "output_type": "stream",
     "text": [
      "Enter the units of electricity consumed in a month : 310\n"
     ]
    },
    {
     "name": "stdout",
     "output_type": "stream",
     "text": [
      "2250\n"
     ]
    }
   ],
   "source": [
    "units = int(input(\"Enter the units of electricity consumed in a month :\"))\n",
    "\n",
    "if units <= 100:\n",
    "    charges = units * 4.5\n",
    "elif units <= 200:\n",
    "    charges = 450\n",
    "    charges = (units - 100 )*6 + charges \n",
    "elif units <= 300:\n",
    "    charges = 1050\n",
    "    charges = (units - 200 )*10 + charges \n",
    "else :\n",
    "    charges = 2050\n",
    "    charges = (units - 300 )*20 + charges \n",
    "\n",
    "print(charges)"
   ]
  },
  {
   "attachments": {},
   "cell_type": "markdown",
   "id": "4fb042bc-3d1b-4a17-a646-9e25a24e1d23",
   "metadata": {},
   "source": [
    "Q4. Create a list of numbers from 1 to 100. Use for loop and while loop to calculate the cube of each\n",
    "number and if the cube of that number is divisible by 4 or 5 then append that number in a list and print\n",
    "that list."
   ]
  },
  {
   "attachments": {},
   "cell_type": "markdown",
   "id": "209e40cd-211b-4896-b5dc-1a354ac5f236",
   "metadata": {},
   "source": [
    "# using for loop"
   ]
  },
  {
   "cell_type": "code",
   "execution_count": 50,
   "id": "633dd27f-cc07-485f-bd8f-7a4a0232d1e3",
   "metadata": {},
   "outputs": [],
   "source": [
    "l1 = []\n",
    "\n",
    "for i in range(100):\n",
    "    l1.append(i+1)"
   ]
  },
  {
   "cell_type": "code",
   "execution_count": 54,
   "id": "4f70a8ec-bb26-45eb-a13b-01fff87b6c31",
   "metadata": {},
   "outputs": [],
   "source": [
    "cube = []\n",
    "for i in l1:\n",
    "    i=i* i* i\n",
    "    \n",
    "    if i % 4 == 0 or i % 5 == 0 :\n",
    "        cube.append(i)\n",
    "    "
   ]
  },
  {
   "attachments": {},
   "cell_type": "markdown",
   "id": "90a297f7-467f-47ae-baa9-520b0d16f218",
   "metadata": {},
   "source": [
    " ### while loop"
   ]
  },
  {
   "cell_type": "code",
   "execution_count": 13,
   "id": "96e0b4d8-1639-40f9-873c-80a14129dba6",
   "metadata": {},
   "outputs": [],
   "source": [
    "l2 = []\n",
    "cube1 = []\n",
    "i = 1\n",
    "\n",
    "while i <= 100 :\n",
    "    l2.append(i)\n",
    "    i = i +1\n",
    "    \n",
    "i = 0\n",
    "while i< len(l2):\n",
    "    j = l2[i]*l2[i]*l2[i]\n",
    "    \n",
    "\n",
    "    i = i+1\n",
    "    \n",
    "    if j % 4 == 0 or j % 5 ==0 :\n",
    "            cube1.append(j)\n"
   ]
  },
  {
   "cell_type": "code",
   "execution_count": 14,
   "id": "4a82e066-0c6e-4130-b168-b914e0e42454",
   "metadata": {},
   "outputs": [
    {
     "data": {
      "text/plain": [
       "[8,\n",
       " 64,\n",
       " 125,\n",
       " 216,\n",
       " 512,\n",
       " 1000,\n",
       " 1728,\n",
       " 2744,\n",
       " 3375,\n",
       " 4096,\n",
       " 5832,\n",
       " 8000,\n",
       " 10648,\n",
       " 13824,\n",
       " 15625,\n",
       " 17576,\n",
       " 21952,\n",
       " 27000,\n",
       " 32768,\n",
       " 39304,\n",
       " 42875,\n",
       " 46656,\n",
       " 54872,\n",
       " 64000,\n",
       " 74088,\n",
       " 85184,\n",
       " 91125,\n",
       " 97336,\n",
       " 110592,\n",
       " 125000,\n",
       " 140608,\n",
       " 157464,\n",
       " 166375,\n",
       " 175616,\n",
       " 195112,\n",
       " 216000,\n",
       " 238328,\n",
       " 262144,\n",
       " 274625,\n",
       " 287496,\n",
       " 314432,\n",
       " 343000,\n",
       " 373248,\n",
       " 405224,\n",
       " 421875,\n",
       " 438976,\n",
       " 474552,\n",
       " 512000,\n",
       " 551368,\n",
       " 592704,\n",
       " 614125,\n",
       " 636056,\n",
       " 681472,\n",
       " 729000,\n",
       " 778688,\n",
       " 830584,\n",
       " 857375,\n",
       " 884736,\n",
       " 941192,\n",
       " 1000000]"
      ]
     },
     "execution_count": 14,
     "metadata": {},
     "output_type": "execute_result"
    }
   ],
   "source": [
    "cube1"
   ]
  },
  {
   "attachments": {},
   "cell_type": "markdown",
   "id": "10a17851-fd8b-4baa-a4b4-3bf0ad9eab28",
   "metadata": {},
   "source": [
    "Q5. Write a program to filter count vowels in the below-given string.\n",
    "string = \"I want to become a data scientist\""
   ]
  },
  {
   "cell_type": "code",
   "execution_count": null,
   "id": "dd4f127e-4b84-43e2-b437-87a9fd7e2421",
   "metadata": {},
   "outputs": [],
   "source": [
    "str = \"I want to become a data scientist\"\n",
    "count = 0 \n",
    "for i in str.lower():\n",
    "    if(i=='a' or i=='e' or i ==' i' or i =='o' or i=='u'):\n",
    "        count = count + 1\n",
    "    \n",
    "count"
   ]
  },
  {
   "attachments": {},
   "cell_type": "markdown",
   "id": "b22c3f54-05a5-4a49-b1fc-b581a34760e0",
   "metadata": {},
   "source": []
  },
  {
   "attachments": {},
   "cell_type": "markdown",
   "id": "2e5b0cff-0e62-4cc7-a98a-4e96e7280d3d",
   "metadata": {},
   "source": []
  },
  {
   "attachments": {},
   "cell_type": "markdown",
   "id": "b643e840-6ab8-49ac-aa76-db3b5f92233a",
   "metadata": {},
   "source": []
  },
  {
   "attachments": {},
   "cell_type": "markdown",
   "id": "7f194986-7f8a-4959-82f7-2481a3633e08",
   "metadata": {},
   "source": []
  },
  {
   "attachments": {},
   "cell_type": "markdown",
   "id": "7e1d7279-5992-46ca-87f0-fb0a6091bc79",
   "metadata": {},
   "source": []
  },
  {
   "attachments": {},
   "cell_type": "markdown",
   "id": "2cf9e3de-a523-4871-95a3-29bcd28ed228",
   "metadata": {},
   "source": []
  },
  {
   "attachments": {},
   "cell_type": "markdown",
   "id": "e2d73301-1d79-4dda-bc05-88e0324ee5be",
   "metadata": {},
   "source": []
  },
  {
   "attachments": {},
   "cell_type": "markdown",
   "id": "69a07d8d-479b-4625-aa72-1d5c4763fb2b",
   "metadata": {},
   "source": []
  }
 ],
 "metadata": {
  "kernelspec": {
   "display_name": "Python 3 (ipykernel)",
   "language": "python",
   "name": "python3"
  },
  "language_info": {
   "codemirror_mode": {
    "name": "ipython",
    "version": 3
   },
   "file_extension": ".py",
   "mimetype": "text/x-python",
   "name": "python",
   "nbconvert_exporter": "python",
   "pygments_lexer": "ipython3",
   "version": "3.10.8"
  }
 },
 "nbformat": 4,
 "nbformat_minor": 5
}
