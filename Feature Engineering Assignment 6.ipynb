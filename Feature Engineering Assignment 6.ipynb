{
 "cells": [
  {
   "cell_type": "markdown",
   "id": "40cc7e80-40bc-45bd-8d95-547d060219b8",
   "metadata": {},
   "source": [
    "## Q1. Pearson correlation coefficient is a measure of the linear relationship between two variables. Suppose you have collected data on the amount of time students spend studying for an exam and their final exam scores. Calculate the Pearson correlation coefficient between these two variables and interpret the result.\n",
    "\n",
    "### Ans :\n",
    "Pearson Correlation Coefficient Calculation\n",
    "The Pearson correlation coefficient (r) measures the strength and direction of the linear relationship between two variables. The formula is:\n",
    "\n",
    "𝑟=∑(𝑥𝑖−𝑥ˉ)(𝑦𝑖−𝑦ˉ) /∑(𝑥𝑖−𝑥ˉ)^2∑(𝑦𝑖−𝑦ˉ)^2\n",
    " \n",
    "Where:\n",
    "𝑥𝑖 and 𝑦𝑖 are the individual data points of the two variables (e.g., study time and exam scores),\n",
    "𝑥ˉ and yˉ are the means of the two variables.\n",
    "\n",
    "Steps to Calculate:\n",
    "1. Collect Data: Example dataset: Study time (in hours) vs Exam scores (out of 100)\n",
    "\n",
    "* Study Time: [2, 3, 4, 5, 6]\n",
    "*  Exam Scores: [50, 60, 70, 80, 90]\n",
    "  \n",
    "2. Calculate the Pearson Correlation Coefficient:"
   ]
  },
  {
   "cell_type": "code",
   "execution_count": 4,
   "id": "7ae74fcb-4e0b-41f2-b83a-b132b31208ab",
   "metadata": {},
   "outputs": [
    {
     "name": "stdout",
     "output_type": "stream",
     "text": [
      "Pearson correlation coefficient: 1.0\n"
     ]
    }
   ],
   "source": [
    "import numpy as np\n",
    "\n",
    "# Data\n",
    "study_time = np.array([2, 3, 4, 5, 6])\n",
    "exam_scores = np.array([50, 60, 70, 80, 90])\n",
    "\n",
    "# Calculate Pearson correlation coefficient\n",
    "correlation = np.corrcoef(study_time, exam_scores)[0, 1]\n",
    "print(\"Pearson correlation coefficient:\", correlation)\n"
   ]
  },
  {
   "cell_type": "markdown",
   "id": "2910a30b-4189-4621-a1bd-8dc70e605eae",
   "metadata": {},
   "source": [
    "## Q2. Spearman's rank correlation is a measure of the monotonic relationship between two variables. Suppose you have collected data on the amount of sleep individuals get each night and their overall job satisfaction level on a scale of 1 to 10. Calculate the Spearman's rank correlation between these two variables and interpret the result.\n",
    "\n",
    "### Ans :\n",
    "\n",
    "Spearman's Rank Correlation\n",
    "Spearman's rank correlation coefficient measures the monotonic relationship between two variables, i.e., whether one variable tends to increase as the other increases (or decreases), regardless of whether the relationship is linear.\n",
    "\n",
    "Steps to Calculate:\n",
    "Rank the Data: Assign ranks to each value of both variables (sleep and job satisfaction).\n",
    "Calculate the Spearman's rank correlation coefficient using the formula:\n",
    "𝜌=1− 6∑𝑑𝑖^2 /𝑛(𝑛^2−1)\n",
    "\n",
    "Where:\n",
    "𝑑𝑖 is the difference between the ranks of each pair of values,\n",
    "𝑛 is the number of data points."
   ]
  },
  {
   "cell_type": "code",
   "execution_count": 9,
   "id": "e4374820-e4ae-4912-bf8e-18439cf0feb7",
   "metadata": {},
   "outputs": [
    {
     "name": "stdout",
     "output_type": "stream",
     "text": [
      "Spearman's rank correlation coefficient: 0.9746794344808963\n"
     ]
    }
   ],
   "source": [
    "from scipy.stats import spearmanr\n",
    "\n",
    "# Data: Sleep (hours) and Job Satisfaction (1-10 scale)\n",
    "sleep_hours = [7, 6, 5, 8, 7]\n",
    "job_satisfaction = [6, 5, 4, 9, 7]\n",
    "\n",
    "# Calculate Spearman's rank correlation\n",
    "correlation, _ = spearmanr(sleep_hours, job_satisfaction)\n",
    "print(\"Spearman's rank correlation coefficient:\", correlation)\n"
   ]
  },
  {
   "cell_type": "markdown",
   "id": "d4729960-5f94-44a9-8d0b-0ed054de251b",
   "metadata": {},
   "source": [
    "## Q3. Suppose you are conducting a study to examine the relationship between the number of hours of exercise per week and body mass index (BMI) in a sample of adults. You collected data on both variables for 50 participants. Calculate the Pearson correlation coefficient and the Spearman's rank correlation between these two variables and compare the results.\n",
    "\n",
    "### Ans :\n",
    "\n",
    "Pearson vs. Spearman Correlation : Pearson correlation measures the linear relationship between two variables.\n",
    "Spearman rank correlation measures the monotonic relationship between two variables, which means whether one increases as the other increases (regardless of whether the relationship is linear).\n",
    "\n",
    "Steps to Calculate:\n",
    "\n",
    "1. Pearson Correlation: Calculates the linear relationship.\n",
    "2. Spearman Rank Correlation: Calculates the monotonic relationship."
   ]
  },
  {
   "cell_type": "markdown",
   "id": "4d012f59-321c-4486-a3f6-c27a825a8f50",
   "metadata": {},
   "source": [
    "## Q4. A researcher is interested in examining the relationship between the number of hours individuals spend watching television per day and their level of physical activity. The researcher collected data on both variables from a sample of 50 participants. Calculate the Pearson correlation coefficient between these two variables.\n",
    "\n",
    "### Ans :\n"
   ]
  },
  {
   "cell_type": "code",
   "execution_count": 15,
   "id": "64cf8aad-e668-4061-a98c-0f763edbd933",
   "metadata": {},
   "outputs": [
    {
     "name": "stdout",
     "output_type": "stream",
     "text": [
      "Pearson correlation coefficient: -0.9254575538258921\n"
     ]
    }
   ],
   "source": [
    "import numpy as np\n",
    "from scipy.stats import pearsonr\n",
    "\n",
    "# Sample data: Hours of TV watched and physical activity level\n",
    "tv_hours = np.array([2, 3, 4, 5, 6, 7, 2, 1, 3, 5, 4, 6, 3, 4, 5, 7, 2, 3, 6, 4, \n",
    "                    5, 6, 3, 2, 4, 5, 7, 6, 4, 3, 6, 7, 5, 4, 2, 3, 4, 6, 5, 3])\n",
    "activity_level = np.array([4, 3, 2, 1, 0, 0, 4, 5, 3, 1, 2, 0, 3, 2, 1, 0, 4, 3, 0, 2, \n",
    "                           1, 0, 3, 4, 1, 2, 0, 0, 3, 2, 1, 0, 2, 3, 4, 2, 3, 1, 0, 2])\n",
    "\n",
    "# Calculate Pearson correlation coefficient\n",
    "correlation, _ = pearsonr(tv_hours, activity_level)\n",
    "\n",
    "print(\"Pearson correlation coefficient:\", correlation)\n"
   ]
  },
  {
   "cell_type": "markdown",
   "id": "3d7ba498-50b2-4b0a-81d8-05be1ba9bdd1",
   "metadata": {},
   "source": [
    "## Q5. A survey was conducted to examine the relationship between age and preference for a particularbrand of soft drink. The survey results are shown below:\n",
    "Age(Year) = 25,42, 37,19,31,28\n",
    "Soft drink preference = coke , pepsi, mountain dew, coke, pepsi, coke\n",
    "\n",
    "### Ans :\n",
    "To examine the relationship between age and soft drink preference, we need to encode the categorical variable (soft drink preference) into a numerical format so that we can calculate a correlation.\n",
    "\n",
    "Step-by-Step Process:\n",
    "Data:\n",
    "\n",
    "Age: [25, 42, 37, 19, 31, 28]\n",
    "Soft drink preference: [\"coke\", \"pepsi\", \"mountain dew\", \"coke\", \"pepsi\", \"coke\"]\n",
    "Encode Soft Drink Preference: We need to transform the categorical values (coke, pepsi, mountain dew) into numerical values. For example, we can assign:\n",
    "\n",
    "coke = 1\n",
    "pepsi = 2\n",
    "mountain dew = 3\n",
    "The encoded values will look like this:\n",
    "\n",
    "Age: [25, 42, 37, 19, 31, 28]\n",
    "Encoded Preference: [1, 2, 3, 1, 2, 1]\n",
    "Calculate the Pearson Correlation Coefficient between age and encoded preference using the formula:\n",
    "\n",
    "𝑟 =∑(𝑥𝑖−𝑥ˉ)(𝑦𝑖−𝑦ˉ) /√∑(𝑥𝑖−𝑥ˉ)^2∑(𝑦𝑖−𝑦ˉ)^2\n"
   ]
  },
  {
   "cell_type": "code",
   "execution_count": 17,
   "id": "3ce83533-2a19-45d2-b4e9-fdddd2e3acb2",
   "metadata": {},
   "outputs": [
    {
     "name": "stdout",
     "output_type": "stream",
     "text": [
      "Pearson correlation coefficient: 0.7587035441865058\n"
     ]
    }
   ],
   "source": [
    "import numpy as np\n",
    "from scipy.stats import pearsonr\n",
    "\n",
    "# Data: Age and encoded soft drink preference\n",
    "age = np.array([25, 42, 37, 19, 31, 28])\n",
    "encoded_preference = np.array([1, 2, 3, 1, 2, 1])  # Coke=1, Pepsi=2, Mountain Dew=3\n",
    "\n",
    "# Calculate Pearson correlation coefficient\n",
    "correlation, _ = pearsonr(age, encoded_preference)\n",
    "\n",
    "print(\"Pearson correlation coefficient:\", correlation)\n"
   ]
  },
  {
   "cell_type": "markdown",
   "id": "21a09e5e-32bf-4889-95f8-ab53483ee7a5",
   "metadata": {},
   "source": [
    "## Q6. A company is interested in examining the relationship between the number of sales calls made per dayand the number of sales made per week. The company collected data on both variables from a sample of 30 sales representatives. Calculate the Pearson correlation coefficient between these two variables.\n",
    "\n",
    "### Ans :\n",
    "To calculate the Pearson correlation coefficient between the number of sales calls made per day and the number of sales made per week, follow these steps:\n",
    "\n",
    "Step-by-Step Process:\n",
    "Data: You need to have two variables:\n",
    "\n",
    "Number of sales calls made per day (let's call it X).\n",
    "Number of sales made per week (let's call it Y).\n",
    "Pearson Correlation Formula:\n",
    "\n",
    "> 𝑟 =∑(𝑋𝑖−𝑋ˉ)(𝑌𝑖−𝑌ˉ) /√∑(𝑋𝑖−𝑋ˉ)^2∑(𝑌𝑖−𝑌ˉ)^2\n",
    "\n",
    "        Where:𝑋i​  and 𝑌i  are individual data points.\n",
    "        𝑋  and 𝑌 are the means of X and Y."
   ]
  },
  {
   "cell_type": "code",
   "execution_count": 19,
   "id": "3a8ac1a0-7069-4282-92e1-64d46c46e23d",
   "metadata": {},
   "outputs": [
    {
     "name": "stdout",
     "output_type": "stream",
     "text": [
      "Pearson correlation coefficient: 0.9730742808546509\n"
     ]
    }
   ],
   "source": [
    "import numpy as np\n",
    "from scipy.stats import pearsonr\n",
    "\n",
    "# Sample data: Number of sales calls made per day (X) and number of sales made per week (Y)\n",
    "sales_calls = np.array([20, 15, 30, 25, 18, 24, 22, 35, 28, 40, 18, 20, 30, 27, 33, 26, 31, 25, 22, 23,\n",
    "                       29, 32, 21, 30, 19, 35, 28, 30, 22, 26])\n",
    "\n",
    "sales_made = np.array([8, 6, 12, 10, 7, 9, 8, 14, 10, 15, 7, 8, 12, 11, 13, 9, 12, 10, 8, 8,\n",
    "                       11, 13, 9, 11, 7, 14, 12, 11, 9, 10])\n",
    "\n",
    "# Calculate Pearson correlation coefficient\n",
    "correlation, _ = pearsonr(sales_calls, sales_made)\n",
    "\n",
    "print(\"Pearson correlation coefficient:\", correlation)\n"
   ]
  },
  {
   "cell_type": "code",
   "execution_count": null,
   "id": "db83220e-af7b-4249-a9a0-e1676e3ce3cf",
   "metadata": {},
   "outputs": [],
   "source": []
  }
 ],
 "metadata": {
  "kernelspec": {
   "display_name": "Python 3 (ipykernel)",
   "language": "python",
   "name": "python3"
  },
  "language_info": {
   "codemirror_mode": {
    "name": "ipython",
    "version": 3
   },
   "file_extension": ".py",
   "mimetype": "text/x-python",
   "name": "python",
   "nbconvert_exporter": "python",
   "pygments_lexer": "ipython3",
   "version": "3.12.4"
  }
 },
 "nbformat": 4,
 "nbformat_minor": 5
}
