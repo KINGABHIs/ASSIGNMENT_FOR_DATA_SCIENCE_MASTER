{
 "cells": [
  {
   "cell_type": "markdown",
   "id": "917cd6b2-c620-49cb-aa51-88b950b42c44",
   "metadata": {},
   "source": [
    "Q1. What is a database? Differentiate between SQL and NoSQL databases."
   ]
  },
  {
   "cell_type": "markdown",
   "id": "803f9cae-c1f1-470c-987c-8396d0b56b3c",
   "metadata": {},
   "source": [
    "A database is a structured collection of data that can be easily accessed, managed, and updated. It is used to store and organize information for efficient retrieval and manipulation.\n",
    "\n",
    "SQL Databases (Relational Databases)\n",
    "* Structure: SQL databases use a structured schema with tables, rows, and columns.\n",
    "* Query Language: Use Structured Query Language (SQL) for data manipulation.\n",
    "* Examples: MySQL, PostgreSQL, Oracle, SQLite.\n",
    "* Data Model: Follow ACID properties (Atomicity, Consistency, Isolation, Durability) for reliable transactions.\n",
    "* Best For: Applications requiring complex queries and structured data, e.g., banking, ERP systems.\n",
    "  \n",
    "NoSQL Databases (Non-Relational Databases)\n",
    "* Structure: NoSQL databases use flexible schemas like documents, key-value pairs, wide-columns, or graphs.\n",
    "* Query Language: No standard query language; often rely on APIs or custom query methods.\n",
    "* Examples: MongoDB, Cassandra, Redis, Neo4j.\n",
    "* Data Model: Prioritize scalability and performance, often following BASE properties (Basically Available, Soft state,  Eventual consistency).\n",
    "* Best For: Big data, real-time analytics, and unstructured or semi-structured data, e.g., social media, IoT.\n"
   ]
  },
  {
   "cell_type": "markdown",
   "id": "9fd87770-7648-414e-8322-da37887e5115",
   "metadata": {},
   "source": [
    "Q2. What is DDL? Explain why CREATE, DROP, ALTER, and TRUNCATE are used with an example."
   ]
  },
  {
   "cell_type": "markdown",
   "id": "52e59ed2-1681-4992-b570-6e8f17b41548",
   "metadata": {},
   "source": [
    "DDL (Data Definition Language) is a subset of SQL used to define and manage database structures, such as tables, schemas, and indexes. DDL commands do not manipulate the data within the tables, but instead focus on the structure of the database itself.\n",
    "\n",
    "1. CREATE\n",
    "   \n",
    "Use: Creates a new database object, such as a table, view, or index.\n",
    ">CREATE TABLE Students (\r\n",
    "    ID INT PRIMARY KEY,\r\n",
    "    Name VARCHAR(50),\r\n",
    "    Age INT\r\n",
    ");\r\n",
    "\n",
    "\n",
    "2. DROP\n",
    "   \n",
    "Use: Deletes an existing database object, such as a table, view, or i\n",
    ">DROP TABLE Students;\r\n",
    "ndex.\n",
    "\n",
    "3. ALTER\n",
    "   \n",
    "Use: Modifies an existing database object, such as a table's structure (e.g., adding or dropping colu>ALTER TABLE Students ADD Grade VARCHAR(10);\r\n",
    "mns).\n",
    "\n",
    "4. TRUNCATE\n",
    "   \n",
    "Use: Removes all rows from a table, but does not delete the table itself. It is faster than DELETE and does not log individual row d\n",
    ">TRUNCATE TABLE Students;\r\n",
    "eletion"
   ]
  },
  {
   "cell_type": "markdown",
   "id": "2aeb11b5-ece9-49d0-b983-a8ca07a42812",
   "metadata": {},
   "source": [
    "Q3. What is DML? Explain INSERT, UPDATE, and DELETE with an example."
   ]
  },
  {
   "cell_type": "markdown",
   "id": "6db42f00-fb8a-4ed9-9739-8164a7f0d830",
   "metadata": {},
   "source": [
    "DML (Data Manipulation Language) is a subset of SQL used to manipulate and manage the data within existing database tables. It includes commands for adding, updating, and deleting data.\n",
    "\n",
    "1. INSERT\n",
    "   \n",
    "Use: Adds new rows of data into a table.\n",
    ">INSERT INTO Students (ID, Name, Age)\r\n",
    "VALUES (1, 'John Doe', 20);\n",
    "\n",
    "2. UPDATE\n",
    "   \n",
    "Use: Modifies existing data in a table.\n",
    ">UPDATE Students\r\n",
    "SET Age = 21\r\n",
    "WHERE ID 1 \n",
    "\n",
    "\n",
    "3. DELETE\n",
    "   \n",
    "Use: Removes rows from a table.\n",
    ">DELETE FROM Students\r\n",
    "WHERE ID =1;\r\n",
    ";\r\n",
    ";\n",
    "\r\n"
   ]
  },
  {
   "cell_type": "markdown",
   "id": "dee99456-ec12-4476-97b0-6e752efd5155",
   "metadata": {},
   "source": [
    "Q4. What is DQL? Explain SELECT with an example."
   ]
  },
  {
   "cell_type": "markdown",
   "id": "5cb10156-c02b-4c70-b2ee-a5a055204aa2",
   "metadata": {},
   "source": [
    "DQL (Data Query Language) is a subset of SQL used for querying or retrieving data from a database. It involves the SELECT statement, which is used to fetch data from one or more tables in the database.\n",
    "\n",
    "SELECT Statement : The SELECT statement is the most commonly used DQL command. It allows you to retrieve data from a database based on specific criteria.\n",
    "\n",
    "1. Basic SELECT : To select all columns from a table:\n",
    "   >SELECT * FROM Students;\n",
    "   \r",
    "2. SELECT Specific Columns:To select specific columns:\n",
    "   >SELECT Name, Age FROM Students;\n",
    "   \r",
    "3. SELECT with WHERE Condition: To select data based on a condition:\n",
    "   >SELECT Name, Age FROM Students WHERE Age > 20;\r\n",
    "4. SELECT with ORDER BY : To sort the retrieved data:\n",
    "   >SELECT Name, Age FROM Students ORDER BY Age DESC;\r\n",
    "\n",
    "\n",
    "\n"
   ]
  },
  {
   "cell_type": "markdown",
   "id": "cb6a92e3-c404-44f9-b5a4-57a35e6eb576",
   "metadata": {},
   "source": [
    "Q5. Explain Primary Key and Foreign Key."
   ]
  },
  {
   "cell_type": "markdown",
   "id": "4e729c0a-eed1-4358-b1b5-28b6c52dacac",
   "metadata": {},
   "source": [
    "* Primary Key\n",
    "Definition: A Primary Key is a column (or a set of columns) in a table that uniquely identifies each row in that table. It ensures that no two rows have the same value for the primary key column(s), providing data integrity.\n",
    "\n",
    "Characteristics:\n",
    "\n",
    "Must contain unique values.\n",
    "Cannot contain NULL values.\n",
    "There can only be one primary key in a table.\n",
    ">CREATE TABLE Students (\r\n",
    "    ID INT PRIMARY KEY,\r\n",
    "    Name VARCHAR(50),\r\n",
    "    Age INT\r\n",
    ");\r\n",
    "                                                                                      * Foreign Key\n",
    "Definition: A Foreign Key is a column (or a set of columns) in one table that uniquely identifies a row of another table. It establishes a relationship between the two tables.\n",
    "\n",
    "Characteristics:\n",
    "\n",
    "The values in the foreign key column must match values in the referenced table’s primary key column (or a unique key).\n",
    "Allows NULL values, unless the foreign key constraint specifies otherwise.\n",
    ">CREATE TABLE Enrollments (\r\n",
    "    EnrollmentID INT PRIMARY KEY,\r\n",
    "    StudentID INT,\r\n",
    "    Course VARCHAR(50),\r\n",
    "    FOREIGN KEY (StudentID) REFERENCES Students(ID)\r\n",
    ");\r\n",
    "                                                                                                                        "
   ]
  },
  {
   "cell_type": "markdown",
   "id": "b76c44aa-7d6e-46d2-88b4-d9e75053c8e6",
   "metadata": {},
   "source": [
    "Q6. Write a python code to connect MySQL to python. Explain the cursor() and execute() method."
   ]
  },
  {
   "cell_type": "code",
   "execution_count": null,
   "id": "b48e5dec-0223-4ce0-b8ec-c04a8335ea68",
   "metadata": {},
   "outputs": [],
   "source": [
    "import mysql.connector \n",
    "\n",
    "database = mysql.connector.connect(\n",
    "    host = \"localhost\",\n",
    "    user = \"user_name\",\n",
    "    password = \"your_password\",\n",
    "    database = \"your_database\"\n",
    ")\n",
    "\n",
    "cursor = database.cursor()\n",
    "cursor.execute(\"CREATE DATABASE KING\")\n",
    "\n",
    "database.close()"
   ]
  },
  {
   "cell_type": "markdown",
   "id": "140e4b5b-c0ba-4004-84cb-8fde595b4e09",
   "metadata": {},
   "source": [
    "1. cursor() Method\n",
    "Purpose: The cursor() method creates a cursor object. This object is used to execute SQL queries and fetch results from the database.\n",
    "\n",
    ">cursor = conn.cursor()\r\n",
    "\n",
    "2. execute() Method\n",
    "Purpose: The execute() method is used to execute SQL queries using the cursor object. You can use it to run SELECT, INSERT, UPDATE, DELETE, or any other SQL command.\n",
    "\n",
    ">cursor.execute(\"SELECT * FROM Students\")\r\n",
    "\n"
   ]
  },
  {
   "cell_type": "markdown",
   "id": "fc80e23a-3e22-4620-a90b-cedb2cb5a191",
   "metadata": {},
   "source": [
    "Q7. Give the order of execution of SQL clauses in an SQL query."
   ]
  },
  {
   "cell_type": "markdown",
   "id": "9686994c-41c3-4d4e-a0fa-5af640c31071",
   "metadata": {},
   "source": [
    "The order of execution of SQL clauses in an SQL query is as follows:\n",
    "\n",
    "* FROM\n",
    "\n",
    "Specifies the tables or views from which to retrieve the data.\n",
    "* JOIN\n",
    "\n",
    "If you're using a JOIN clause to combine rows from two or more tables, it is processed after FROM.\n",
    "* ON\n",
    "\n",
    "Specifies the condition to join tables in case of JOIN.\n",
    "* WHERE\n",
    "\n",
    "Filters rows based on the condition specified. Only rows that meet the condition are included.\n",
    "* GROUP BY\n",
    "\n",
    "Groups rows based on one or more columns, often used with aggregate functions like COUNT(), SUM(), etc.\n",
    "* HAVING\n",
    "\n",
    "Filters groups created by GROUP BY, similar to how WHERE filters rows. It is applied after the grouping is done.\n",
    "* SELECT\n",
    "\n",
    "Specifies which columns to retrieve or operations to perform (e.g., DISTINCT, aggregate functions).\n",
    "* ORDER BY\n",
    "\n",
    "Sorts the result set based on one or more columns.\n",
    "* LIMIT/OFFSET\n",
    "\n",
    "Limits the number of rows returned or skips a specified number of rows, used for pagination."
   ]
  },
  {
   "cell_type": "code",
   "execution_count": null,
   "id": "6a6c8979-b999-4f4c-914f-d004dcb1fb1a",
   "metadata": {},
   "outputs": [],
   "source": []
  }
 ],
 "metadata": {
  "kernelspec": {
   "display_name": "Python 3 (ipykernel)",
   "language": "python",
   "name": "python3"
  },
  "language_info": {
   "codemirror_mode": {
    "name": "ipython",
    "version": 3
   },
   "file_extension": ".py",
   "mimetype": "text/x-python",
   "name": "python",
   "nbconvert_exporter": "python",
   "pygments_lexer": "ipython3",
   "version": "3.12.4"
  }
 },
 "nbformat": 4,
 "nbformat_minor": 5
}
