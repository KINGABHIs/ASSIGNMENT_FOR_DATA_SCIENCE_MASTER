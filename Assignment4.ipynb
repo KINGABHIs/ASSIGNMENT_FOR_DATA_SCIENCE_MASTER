{
 "cells": [
  {
   "cell_type": "markdown",
   "id": "ab7cd9d3-96c3-4cfb-8c39-a3765371efc1",
   "metadata": {},
   "source": [
    "# Assignment 4"
   ]
  },
  {
   "cell_type": "markdown",
   "id": "bccf531d-e9f0-4362-9820-cc8f37845142",
   "metadata": {
    "tags": []
   },
   "source": [
    "#### Q1. Explain Class and Object with respect to Object-Oriented Programming. Give a suitable example."
   ]
  },
  {
   "cell_type": "markdown",
   "id": "21040a83-6f4f-4b82-b33c-7de0614ca79d",
   "metadata": {},
   "source": [
    "* Class =The class creates a user-defined data structure, which holds its own data members and member functions, which can be accessed and used by creating an instance of that class. A class is like a blueprint for an object.\n",
    "\n",
    " Some points on Python class:\n",
    "\n",
    "*    Classes are created by keyword class.\n",
    "*    Attributes are the variables that belong to a class.\n",
    "*    Attributes are always public and can be accessed using the dot (.) \n",
    "*    operator. Eg.: My class.Myattribute"
   ]
  },
  {
   "cell_type": "markdown",
   "id": "55a72a18-bc1e-4361-acd8-ee1c6140a929",
   "metadata": {},
   "source": [
    "* Object = An Object is an instance of a Class. A class is like a blueprint while an instance is a copy of the class with actual values (Real world entity)."
   ]
  },
  {
   "cell_type": "code",
   "execution_count": 1,
   "id": "75d0bac5-3063-4163-88ef-33f35d3da95f",
   "metadata": {},
   "outputs": [
    {
     "name": "stdout",
     "output_type": "stream",
     "text": [
      "I'm a mammal\n",
      "I'm a dog\n"
     ]
    }
   ],
   "source": [
    "class Dog:       #dog is a class entity \n",
    " \n",
    "    a1 = \"mammal\"\n",
    "    a2 = \"dog\"\n",
    "\n",
    "    def fun(self):\n",
    "        print(\"I'm a\", self.a1)\n",
    "        print(\"I'm a\", self.a2)\n",
    "\n",
    "tyson = Dog()     # tyson is c real entity or object\n",
    "tyson.fun()\n",
    "    \n",
    "            "
   ]
  },
  {
   "cell_type": "markdown",
   "id": "298578e8-9a6b-4c04-976d-594328fa1ef8",
   "metadata": {
    "tags": []
   },
   "source": [
    "### Q2. Name the four pillars of OOPs."
   ]
  },
  {
   "cell_type": "markdown",
   "id": "0831772a-9ada-4a1a-a69a-7236c39d982b",
   "metadata": {},
   "source": [
    "* Encapsulation.\n",
    "* Inheritance.\n",
    "* Polymorphism.\n",
    "* Abstraction.  \n",
    "  Are the four pillars of  OOPs."
   ]
  },
  {
   "cell_type": "markdown",
   "id": "11ee0d1a-2f31-495c-8400-45a9ac88b8ad",
   "metadata": {},
   "source": [
    "### Q3. Explain why the \"_ __init__ _()\" function is used. Give a suitable example."
   ]
  },
  {
   "cell_type": "markdown",
   "id": "1f6c9f23-31b5-4cd0-9f2a-79d77d02e5f8",
   "metadata": {},
   "source": [
    "-> The  __init__ function is called every time an object is created from a class. The __init__ method lets the class initialize the object's attributes and serves no other purpose. It is only used within classes."
   ]
  },
  {
   "cell_type": "code",
   "execution_count": 2,
   "id": "fa21c73c-3120-45df-b007-e67ff0be933d",
   "metadata": {},
   "outputs": [],
   "source": [
    "class students:\n",
    "    def __init__(self, name, roll_no, id_no):\n",
    "        self.name = name\n",
    "        self.roll_no = roll_no\n",
    "        self.id_no = id_no\n",
    "        \n",
    "    def student_info(self):\n",
    "        return self.name, self.roll_no, self.id_no"
   ]
  },
  {
   "cell_type": "code",
   "execution_count": 3,
   "id": "dffacf87-5ed1-40ef-9d61-5b4ece418681",
   "metadata": {},
   "outputs": [],
   "source": [
    "stud1 = students('abhi',111,202301)\n"
   ]
  },
  {
   "cell_type": "code",
   "execution_count": 4,
   "id": "7c9fa225-c056-4388-b976-9e5bbd143a7a",
   "metadata": {},
   "outputs": [
    {
     "data": {
      "text/plain": [
       "('abhi', 111, 202301)"
      ]
     },
     "execution_count": 4,
     "metadata": {},
     "output_type": "execute_result"
    }
   ],
   "source": [
    "stud1.student_info()"
   ]
  },
  {
   "cell_type": "markdown",
   "id": "9c3b8910-9be6-4655-a13d-30026ee9e38f",
   "metadata": {},
   "source": [
    "### Q4. Why self is used in OOPs?"
   ]
  },
  {
   "cell_type": "markdown",
   "id": "10cc1eb8-cdb6-4807-b657-2b61521cacd9",
   "metadata": {},
   "source": [
    "* Self = self represents the instance of the class. By using the “self”  we can access the attributes and methods of the class in python. It binds the attributes with the given arguments.The self parameter doesn't have to be named “self,” as you can call it by any other name.The main reason is to use self in python is python does not use the @ symbol in syntax for assign the instance so it use the self keyword or any first keyword as a instance binding operator."
   ]
  },
  {
   "cell_type": "code",
   "execution_count": null,
   "id": "2f105a8d-9f7b-4afc-af2f-ac260e709028",
   "metadata": {},
   "outputs": [],
   "source": []
  },
  {
   "cell_type": "markdown",
   "id": "84dd2c7e-10e9-4a15-b863-65bd81c841f0",
   "metadata": {},
   "source": [
    "### Q5. What is inheritance? Give an example for each type of inheritance."
   ]
  },
  {
   "cell_type": "markdown",
   "id": "b5cfbe81-8b74-45cc-8168-5db7ed6e8d16",
   "metadata": {},
   "source": [
    "* Inheritance = Inheritance allows us to define a class that inherits all the methods and properties from another class.Parent class is the class being inherited from, also called base class.Child class is the class that inherits from another class, also called derived class.\n",
    "\n",
    "# There are 4 types of inheritance\n",
    "* single inheritance, \n",
    "* multiple inheritance, \n",
    "* multilevel inheritance,\n",
    "* hierarchical inheritance,"
   ]
  },
  {
   "cell_type": "code",
   "execution_count": 5,
   "id": "324aa4e0-4cc5-4bd6-a685-85e102ec414c",
   "metadata": {},
   "outputs": [
    {
     "name": "stdout",
     "output_type": "stream",
     "text": [
      "This is perents class.\n",
      "This is child class.\n"
     ]
    }
   ],
   "source": [
    "# single inheritance \n",
    "class parent :\n",
    "    def func1 (self):\n",
    "        print(\"This is perents class.\")\n",
    "        \n",
    "class child(parent):\n",
    "    def func2 (self):\n",
    "        print(\"This is child class.\")\n",
    "        \n",
    "obj1 = child()\n",
    "obj1.func1()\n",
    "obj1.func2()"
   ]
  },
  {
   "cell_type": "code",
   "execution_count": 6,
   "id": "6c370b5d-c803-41e4-b660-c07ce2f4b065",
   "metadata": {},
   "outputs": [
    {
     "name": "stdout",
     "output_type": "stream",
     "text": [
      "Father name is : Ram\n",
      "Mother name is : Sita\n"
     ]
    }
   ],
   "source": [
    "# multiple inheritance\n",
    "class mother:\n",
    "    mothername = \"\"\n",
    "    \n",
    "    def mother(self):\n",
    "        print(self.mothername)\n",
    "        \n",
    "class father :\n",
    "    fathername = \"\"\n",
    "    \n",
    "    def father(self):\n",
    "        print(self.fathername)\n",
    "\n",
    "        \n",
    "class son(father, mother):\n",
    "    \n",
    "    def parents(self):\n",
    "        print(\"Father name is :\",self.fathername)\n",
    "        print(\"Mother name is :\", self.mothername)\n",
    "\n",
    "        \n",
    "obj1 = son()\n",
    "obj1.fathername = \"Ram\"\n",
    "obj1.mothername = \"Sita\"\n",
    "obj1.parents()"
   ]
  },
  {
   "cell_type": "code",
   "execution_count": 14,
   "id": "6b6e4743-f098-417f-b8f6-043b51bbe52f",
   "metadata": {
    "tags": []
   },
   "outputs": [
    {
     "name": "stdout",
     "output_type": "stream",
     "text": [
      "yashwant\n",
      "Grandfathername yashwant\n",
      "fathername Dattatray\n",
      "sonname abhi\n"
     ]
    }
   ],
   "source": [
    "# multilevel inheritance \n",
    "class Grandpa:\n",
    "    \n",
    "    def __init__(self, grandpa_name):\n",
    "        self.grandpa_name = grandpa_name\n",
    "    \n",
    "    \n",
    "class Father(Grandpa):\n",
    "    \n",
    "    def __init__(self, father_name, grandpa_name):\n",
    "        self.father_name = father_name\n",
    "        \n",
    "        Grandpa.__init__(self, grandpa_name)\n",
    "        \n",
    "class Son(Father):\n",
    "    \n",
    "    def __init__(self, son_name, father_name, grandpa_name):\n",
    "        self.son_name = son_name\n",
    "        \n",
    "        Father.__init__(self, father_name, grandpa_name)\n",
    "        \n",
    "    def print_name(self):\n",
    "        print(\"Grandfathername\",self.grandpa_name)\n",
    "        print(\"fathername\",self.father_name)    \n",
    "        print(\"sonname\",self.son_name)   \n",
    "        \n",
    "pr1 = Son(\"abhi\", \"Dattatray\", \"yashwant\")\n",
    "print(pr1.grandpa_name)\n",
    "pr1.print_name()"
   ]
  },
  {
   "cell_type": "code",
   "execution_count": 3,
   "id": "577f78a3-24fb-400c-ad97-c8172cee0d10",
   "metadata": {},
   "outputs": [
    {
     "name": "stdout",
     "output_type": "stream",
     "text": [
      "This is parents class.\n",
      "This is parents class.\n"
     ]
    }
   ],
   "source": [
    "# hierarchical Inheritance\n",
    "class parent :\n",
    "    def func1(self):\n",
    "        print(\"This is parents class.\")\n",
    "        \n",
    "class child1(parent):\n",
    "    def func2(self):\n",
    "        print(\"This is first child function.\")\n",
    "        \n",
    "class child2(parent):\n",
    "    def func3(self):\n",
    "        print(\"This is second child function\")\n",
    "        \n",
    "obj1 = child1()\n",
    "obj2 = child2()\n",
    "obj1.func1()\n",
    "obj2.func1()"
   ]
  },
  {
   "cell_type": "code",
   "execution_count": null,
   "id": "9812ea92-73e0-48e1-af2e-c237cfb62f08",
   "metadata": {},
   "outputs": [],
   "source": []
  }
 ],
 "metadata": {
  "kernelspec": {
   "display_name": "Python 3 (ipykernel)",
   "language": "python",
   "name": "python3"
  },
  "language_info": {
   "codemirror_mode": {
    "name": "ipython",
    "version": 3
   },
   "file_extension": ".py",
   "mimetype": "text/x-python",
   "name": "python",
   "nbconvert_exporter": "python",
   "pygments_lexer": "ipython3",
   "version": "3.10.8"
  }
 },
 "nbformat": 4,
 "nbformat_minor": 5
}
