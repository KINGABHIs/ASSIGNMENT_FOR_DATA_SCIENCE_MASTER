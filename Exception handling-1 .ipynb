{
 "cells": [
  {
   "cell_type": "markdown",
   "id": "756852ae-83ff-4aea-aad0-3701ea43f785",
   "metadata": {},
   "source": [
    "## Q1. What is an Exception in python? Write the difference between Exceptions and Syntax errors."
   ]
  },
  {
   "cell_type": "markdown",
   "id": "80ab79c0-5ad7-4114-b8d5-1552db6d28ce",
   "metadata": {},
   "source": [
    "An exception is an error that occurs during program execution, disrupting the normal flow. For example, dividing by zero or accessing a non-existent file.\n",
    "\n",
    "Difference Between Exceptions and Syntax Errors:\n",
    "* Exceptions\n",
    "  \n",
    "Occur during program execution.\n",
    "\n",
    "Can be handled using try-except.\t\n",
    "\n",
    "Example: ZeroDivisionError.\n",
    "\n",
    "* Syntax Errors\n",
    "  \n",
    "Occur before execution, at compile time.\n",
    "\n",
    "Cannot be handled; must fix the syntax.\n",
    "\n",
    "Example: Missing a colon : in code."
   ]
  },
  {
   "cell_type": "markdown",
   "id": "d93a3311-9263-4599-a511-226fd47b87e8",
   "metadata": {},
   "source": [
    "## Q2. What happens when an exception is not handled? Explain with an example.\n",
    "\n",
    "## Ans:\n",
    "When an exception is not handled, the program terminates and displays a traceback error message. Remaining code is not executed.\n",
    "\n",
    "example-\n",
    "\n",
    "num = 10 / 0  \n",
    "\n",
    "print(\"This line won't execute.\")\n",
    "\n",
    "Output-\n",
    "ZeroDivisionError: division by zero"
   ]
  },
  {
   "cell_type": "code",
   "execution_count": null,
   "id": "2264ba68-7d8d-45bf-9c8f-d463a3fed370",
   "metadata": {},
   "outputs": [],
   "source": []
  },
  {
   "cell_type": "markdown",
   "id": "6bcc0256-6863-4b4a-a841-fcab2be0a1e5",
   "metadata": {},
   "source": [
    "## Q3. Which Python statements are used to catch and handle exceptions? Explain with an example.\n",
    "\n",
    "## Ans:\n",
    "In Python, try, except, else, and finally statements are used to catch and handle exceptions.\n",
    "\n",
    "Explanation:\n",
    "* try: The block of code where you write the code that might raise an exception.\n",
    "* except: Catches and handles the exception.\n",
    "* else: Executes if no exception occurs.\n",
    "* finally: Executes no matter what (used for cleanup actions)."
   ]
  },
  {
   "cell_type": "code",
   "execution_count": 4,
   "id": "b96a6a24-90a0-4e89-8323-a42d0d37c7c5",
   "metadata": {},
   "outputs": [
    {
     "name": "stdout",
     "output_type": "stream",
     "text": [
      "Cannot divide by zero!\n",
      "This will run no matter what.\n"
     ]
    }
   ],
   "source": [
    "# Raises ZeroDivisionError\n",
    "try:\n",
    "    num = 10 / 0  \n",
    "except ZeroDivisionError:\n",
    "    print(\"Cannot divide by zero!\")\n",
    "else:\n",
    "    print(\"Division successful!\")\n",
    "finally:\n",
    "    print(\"This will run no matter what.\")\n"
   ]
  },
  {
   "cell_type": "markdown",
   "id": "9ce2ee58-4618-4b2c-815c-0c021e32d33b",
   "metadata": {},
   "source": [
    "## Q4. Explain with an example:\n",
    "* try and else\n",
    "* finall\n",
    "* raise\n",
    "\n",
    "## Ans:\n",
    "\n",
    "1. try and else\n",
    "   \n",
    "The try block contains the code that might raise an exception.\n",
    "\n",
    "The else block is executed only if no exception occurs in the try block."
   ]
  },
  {
   "cell_type": "code",
   "execution_count": 9,
   "id": "94e6a513-f3e2-4083-80f6-e875c48de35c",
   "metadata": {},
   "outputs": [
    {
     "name": "stdout",
     "output_type": "stream",
     "text": [
      "Division was successful!\n"
     ]
    }
   ],
   "source": [
    "try:\n",
    "    num = 10 / 2  # No error\n",
    "except ZeroDivisionError:\n",
    "    print(\"Cannot divide by zero!\")\n",
    "else:\n",
    "    print(\"Division was successful!\")\n"
   ]
  },
  {
   "cell_type": "markdown",
   "id": "e1f23a19-38e2-4a53-a858-811501a2a403",
   "metadata": {},
   "source": [
    "2. finally -The finally block is always executed, whether or not an exception occurs. It is used for cleanup actions (like closing files)."
   ]
  },
  {
   "cell_type": "code",
   "execution_count": 12,
   "id": "f36d0505-a945-4ab5-8d74-01974ff0b2b7",
   "metadata": {},
   "outputs": [
    {
     "name": "stdout",
     "output_type": "stream",
     "text": [
      "This will always execute.\n"
     ]
    }
   ],
   "source": [
    "try:\n",
    "    num = 10 / 2\n",
    "except ZeroDivisionError:\n",
    "    print(\"Cannot divide by zero!\")\n",
    "finally:\n",
    "    print(\"This will always execute.\")\n"
   ]
  },
  {
   "cell_type": "markdown",
   "id": "5af1a1dc-2a5b-44ac-a4d1-9a8b341df435",
   "metadata": {},
   "source": [
    "3. raise -\n",
    "   \n",
    "The raise statement is used to manually raise an exception."
   ]
  },
  {
   "cell_type": "code",
   "execution_count": 15,
   "id": "73dc5d43-6f0a-462a-b2ea-b97fdec89a61",
   "metadata": {},
   "outputs": [
    {
     "name": "stdout",
     "output_type": "stream",
     "text": [
      "Age must be 18 or older.\n"
     ]
    }
   ],
   "source": [
    "def check_age(age):\n",
    "    if age < 18:\n",
    "        raise ValueError(\"Age must be 18 or older.\")\n",
    "    else:\n",
    "        print(\"Age is valid.\")\n",
    "        \n",
    "# This will raise an exception\n",
    "try:\n",
    "    check_age(16)  \n",
    "except ValueError as e:\n",
    "    print(e)\n"
   ]
  },
  {
   "cell_type": "markdown",
   "id": "8d12cd04-53df-44f0-bd6c-44f2bad4be4b",
   "metadata": {},
   "source": [
    "## Q5. What are Custom Exceptions in python? Why do we need Custom Exceptions? Explain with an example.\n",
    "\n",
    "## Ans:\n",
    "Custom Exceptions in Python :\n",
    "Custom exceptions are user-defined exceptions that allow you to create specific error messages for particular situations in your program. They are useful when the built-in exceptions do not adequately describe the error.\n",
    "\n",
    "Custom Exceptions : \n",
    "* To provide more meaningful error messages specific to your application.\n",
    "* To handle specific error cases that aren't covered by Python's built-in exceptions.\n",
    "* To improve code readability and maintainability."
   ]
  },
  {
   "cell_type": "code",
   "execution_count": 17,
   "id": "820cf3ad-3e39-471d-8826-30989afb4cf6",
   "metadata": {},
   "outputs": [
    {
     "name": "stdout",
     "output_type": "stream",
     "text": [
      "Error: Age must be 18 or older.\n"
     ]
    }
   ],
   "source": [
    "# Define a custom exception\n",
    "class AgeRestrictionError(Exception):\n",
    "    def __init__(self, message):\n",
    "        self.message = message\n",
    "        super().__init__(self.message)\n",
    "\n",
    "# Function to check age\n",
    "def check_age(age):\n",
    "    if age < 18:\n",
    "        raise AgeRestrictionError(\"Age must be 18 or older.\")\n",
    "    else:\n",
    "        print(\"Age is valid.\")\n",
    "\n",
    "try:\n",
    "    check_age(16)  # This will raise custom exception\n",
    "except AgeRestrictionError as e:\n",
    "    print(f\"Error: {e}\")\n"
   ]
  },
  {
   "cell_type": "markdown",
   "id": "212ebb63-f847-4677-93e8-59856fe95bc1",
   "metadata": {},
   "source": [
    "## Q6. Create a custom exception class. Use this class to handle an exception.\n",
    "\n",
    "## Ans:\n"
   ]
  },
  {
   "cell_type": "code",
   "execution_count": 20,
   "id": "60f0b83c-6544-4a3b-8bd8-08c868ccbdb3",
   "metadata": {},
   "outputs": [
    {
     "name": "stdin",
     "output_type": "stream",
     "text": [
      "Enter a number:  34\n"
     ]
    },
    {
     "name": "stdout",
     "output_type": "stream",
     "text": [
      "Number is positive.\n"
     ]
    }
   ],
   "source": [
    "# Define a custom exception\n",
    "class NegativeNumberError(Exception):\n",
    "    def __init__(self, message=\"Negative numbers are not allowed!\"):\n",
    "        self.message = message\n",
    "        super().__init__(self.message)\n",
    "\n",
    "# Function to check if number is negative\n",
    "def check_number(num):\n",
    "    if num < 0:\n",
    "        raise NegativeNumberError(\"Negative number entered!\")\n",
    "    else:\n",
    "        print(\"Number is positive.\")\n",
    "\n",
    "# Using the custom exception\n",
    "try:\n",
    "    num = int(input(\"Enter a number: \"))\n",
    "    check_number(num)\n",
    "except NegativeNumberError as e:\n",
    "    print(f\"Error: {e}\")\n"
   ]
  },
  {
   "cell_type": "code",
   "execution_count": null,
   "id": "9dcf6e32-29f3-487b-95ef-0deeae5f51c6",
   "metadata": {},
   "outputs": [],
   "source": []
  }
 ],
 "metadata": {
  "kernelspec": {
   "display_name": "Python 3 (ipykernel)",
   "language": "python",
   "name": "python3"
  },
  "language_info": {
   "codemirror_mode": {
    "name": "ipython",
    "version": 3
   },
   "file_extension": ".py",
   "mimetype": "text/x-python",
   "name": "python",
   "nbconvert_exporter": "python",
   "pygments_lexer": "ipython3",
   "version": "3.12.4"
  }
 },
 "nbformat": 4,
 "nbformat_minor": 5
}
