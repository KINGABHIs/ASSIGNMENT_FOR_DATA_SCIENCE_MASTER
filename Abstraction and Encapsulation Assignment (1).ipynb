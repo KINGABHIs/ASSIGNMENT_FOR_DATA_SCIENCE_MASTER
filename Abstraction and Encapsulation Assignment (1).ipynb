{
 "cells": [
  {
   "cell_type": "markdown",
   "id": "73731aff-f886-4a15-85a7-a8428eb698a3",
   "metadata": {},
   "source": [
    "## Q1. What is Abstraction in OOps? Explain with an example.\n",
    "\n",
    "### Ans :\n",
    "Abstraction : Abstraction is the process of hiding complex implementation details and showing only the essential features of an object. It simplifies coding by focusing on what an object does rather than how it does it."
   ]
  },
  {
   "cell_type": "code",
   "execution_count": 1,
   "id": "1bbc0691-0d85-4d84-b463-2cc13065591e",
   "metadata": {},
   "outputs": [
    {
     "name": "stdout",
     "output_type": "stream",
     "text": [
      "Car engine started\n"
     ]
    }
   ],
   "source": [
    "##Imagine a Car.\n",
    "\n",
    "# You know how to drive it (start, stop, accelerate) — this is abstraction.\n",
    "# You don’t need to know how the engine works internally.\n",
    "\n",
    "from abc import ABC, abstractmethod\n",
    "\n",
    "class Vehicle(ABC):\n",
    "    @abstractmethod\n",
    "    def start(self):\n",
    "        pass\n",
    "\n",
    "class Car(Vehicle):\n",
    "    def start(self):\n",
    "        print(\"Car engine started\")\n",
    "\n",
    "# Usage\n",
    "my_car = Car()\n",
    "my_car.start()"
   ]
  },
  {
   "cell_type": "code",
   "execution_count": null,
   "id": "d9aaf700-f62c-40df-ade1-60d574e42ace",
   "metadata": {},
   "outputs": [],
   "source": []
  },
  {
   "cell_type": "markdown",
   "id": "30b2849e-8bc0-4972-b55d-68e7b31e288e",
   "metadata": {},
   "source": [
    "## Q2. Differentiate between Abstraction and Encapsulation. Explain with an example.\n",
    "\n",
    "### Ans :\n",
    "Abstraction\t\n",
    "* Definition\t: Hides implementation details, showing only features.\n",
    "* Focus\t: Focuses on what an object does.\n",
    "* Purpose\t: Simplifies design and highlights functionality.\n",
    "* Implementation\t: Achieved using abstract classes and interfaces.\t\n",
    "\n",
    "Encapsulation\n",
    "* Definition\t\t: Wraps data and methods into a single unit (class).\n",
    "* Focus \t:\tFocuses on how data is protected.\n",
    "* Purpose\t :\tEnsures data security and prevents unauthorized access.\n",
    "* Implementation\t:\tAchieved using access modifiers (private, public).\n"
   ]
  },
  {
   "cell_type": "code",
   "execution_count": 4,
   "id": "414ac564-cf28-4b0a-867a-34cae1ef9abb",
   "metadata": {},
   "outputs": [
    {
     "name": "stdout",
     "output_type": "stream",
     "text": [
      "78.5\n"
     ]
    }
   ],
   "source": [
    "from abc import ABC, abstractmethod\n",
    "\n",
    "class Shape(ABC):  \n",
    "    @abstractmethod  \n",
    "    def area(self):  \n",
    "        pass  \n",
    "\n",
    "class Circle(Shape):  \n",
    "    def __init__(self, radius):  \n",
    "        self.radius = radius  \n",
    "    \n",
    "    def area(self):  \n",
    "        return 3.14 * self.radius * self.radius  \n",
    "\n",
    "c = Circle(5)\n",
    "print(c.area())  # Output: 78.5\n"
   ]
  },
  {
   "cell_type": "code",
   "execution_count": 6,
   "id": "f05a9db9-635d-4f92-90ec-05b33ff0e709",
   "metadata": {},
   "outputs": [
    {
     "name": "stdout",
     "output_type": "stream",
     "text": [
      "Name: Alice, Age: 20\n"
     ]
    }
   ],
   "source": [
    "class Student:\n",
    "    def __init__(self, name, age):\n",
    "        self.__name = name  # Private attribute\n",
    "        self.__age = age    # Private attribute\n",
    "\n",
    "    def get_details(self):  \n",
    "        return f\"Name: {self.__name}, Age: {self.__age}\"\n",
    "\n",
    "s = Student(\"Alice\", 20)\n",
    "print(s.get_details())  # Output: Name: Alice, Age: 20\n"
   ]
  },
  {
   "cell_type": "markdown",
   "id": "93eecf78-827b-4270-a69b-c6f18349927b",
   "metadata": {},
   "source": [
    "## Q3. What is abc module in python? Why is it used?\n",
    "\n",
    "### Ans :\n",
    "The abc (Abstract Base Classes) module in Python provides tools to define abstract classes. An abstract class cannot be instantiated and serves as a blueprint for other classes.\n",
    "\n",
    "Used to :\n",
    "1. To enforce method implementation in derived classes.\n",
    "2. To ensure consistent design across related classes.\n",
    "3. To promote code reusability and structure."
   ]
  },
  {
   "cell_type": "markdown",
   "id": "dcc33c41-9241-45fb-9bf1-6858aa83f1e0",
   "metadata": {},
   "source": [
    "## Q4. How can we achieve data abstraction?.\n",
    "\n",
    "### Ans:\n",
    "Data abstraction is achieved using abstract classes and interfaces, where we define abstract methods that hide implementation details and show only the functionality.\n",
    "\n",
    "Steps to Achieve Abstraction:\n",
    "* Use the abc module to define an abstract class.\n",
    "* Use the @abstractmethod decorator for methods that must be implemented in derived classes.\n",
    "* Subclass the abstract class and implement the abstract methods."
   ]
  },
  {
   "cell_type": "code",
   "execution_count": 9,
   "id": "fc4b18b3-b940-4a83-8fd5-3e3dfc9ad3d8",
   "metadata": {},
   "outputs": [
    {
     "name": "stdout",
     "output_type": "stream",
     "text": [
      "Bark\n"
     ]
    }
   ],
   "source": [
    "from abc import ABC, abstractmethod\n",
    "\n",
    "class Animal(ABC):  # Abstract class\n",
    "    @abstractmethod\n",
    "    def sound(self):\n",
    "        pass\n",
    "\n",
    "class Dog(Animal):  # Concrete class\n",
    "    def sound(self):\n",
    "        return \"Bark\"\n",
    "\n",
    "class Cat(Animal):\n",
    "    def sound(self):\n",
    "        return \"Meow\"\n",
    "\n",
    "# Usage\n",
    "dog = Dog()\n",
    "print(dog.sound())  # Output: Bark\n"
   ]
  },
  {
   "cell_type": "markdown",
   "id": "16e33a03-28f9-4719-bd67-91306a5bf32e",
   "metadata": {},
   "source": [
    "## Q5. Can we create an instance of an abstract class? Explain your answer.\n",
    "\n",
    "### Ans :\n",
    "An abstract class is incomplete and cannot be instantiated directly. It is meant to be a blueprint for other classes, which must implement the abstract methods defined in the abstract class."
   ]
  },
  {
   "cell_type": "code",
   "execution_count": 11,
   "id": "df287256-e5d7-483a-94e7-65daa827ef4a",
   "metadata": {},
   "outputs": [],
   "source": [
    "from abc import ABC, abstractmethod\n",
    "\n",
    "class Animal(ABC):\n",
    "    @abstractmethod\n",
    "    def sound(self):\n",
    "        pass\n",
    "\n",
    "# animal = Animal()  # This will raise an error: TypeError: Can't instantiate abstract class Animal with abstract methods sound\n"
   ]
  },
  {
   "cell_type": "code",
   "execution_count": null,
   "id": "60fc2021-c4bd-45f2-859e-dff64e6b386d",
   "metadata": {},
   "outputs": [],
   "source": []
  }
 ],
 "metadata": {
  "kernelspec": {
   "display_name": "Python 3 (ipykernel)",
   "language": "python",
   "name": "python3"
  },
  "language_info": {
   "codemirror_mode": {
    "name": "ipython",
    "version": 3
   },
   "file_extension": ".py",
   "mimetype": "text/x-python",
   "name": "python",
   "nbconvert_exporter": "python",
   "pygments_lexer": "ipython3",
   "version": "3.12.4"
  }
 },
 "nbformat": 4,
 "nbformat_minor": 5
}
