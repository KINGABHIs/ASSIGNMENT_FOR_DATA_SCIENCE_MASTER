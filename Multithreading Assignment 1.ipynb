{
 "cells": [
  {
   "cell_type": "markdown",
   "id": "22cbbf1d-021d-44be-9138-9d5161548f9f",
   "metadata": {},
   "source": [
    "Q1. What is multithreading in python? Why is it used? Name the module used to handle threads in python."
   ]
  },
  {
   "cell_type": "markdown",
   "id": "d2719d14-22dd-4bde-9f06-b4a7a7caea60",
   "metadata": {},
   "source": [
    "Multithreading in Python is a technique that allows a program to execute multiple threads (smaller units of a process) concurrently. Threads within the same process share the same memory space.\n",
    "\n",
    "It is used because:\n",
    "* Concurrency: Helps perform multiple tasks simultaneously, improving efficiency for I/O-bound operations (e.g., reading files, making network requests).\n",
    "* Responsiveness: Keeps applications responsive while performing long-running tasks.\n",
    "* Resource Sharing: Threads share memory and resources, reducing overhead compared to multiprocessing.\n",
    "\n",
    "The threading module is used to handle threads in Python."
   ]
  },
  {
   "cell_type": "code",
   "execution_count": 1,
   "id": "af08cc4a-c70a-4330-a072-bf4b77acc23c",
   "metadata": {},
   "outputs": [
    {
     "name": "stdout",
     "output_type": "stream",
     "text": [
      "0\n",
      "1\n",
      "2\n",
      "3\n",
      "4\n",
      "Main thread continues execution.\n"
     ]
    }
   ],
   "source": [
    "import threading\n",
    "\n",
    "def print_numbers():\n",
    "    for i in range(5):\n",
    "        print(i)\n",
    "\n",
    "# Create and start a thread\n",
    "thread = threading.Thread(target=print_numbers)\n",
    "thread.start()\n",
    "\n",
    "# Main thread continues\n",
    "print(\"Main thread continues execution.\")\n"
   ]
  },
  {
   "cell_type": "markdown",
   "id": "7e3d4065-1887-4d5a-b9c6-31358da40f40",
   "metadata": {},
   "source": [
    "Q2. Why threading module used? Write the use of the following functions\n",
    "* activeCount()\n",
    "* currentThread()\n",
    "* enumerate()"
   ]
  },
  {
   "cell_type": "markdown",
   "id": "ae76ddfb-bf32-4d40-97ab-58141b5e9035",
   "metadata": {},
   "source": [
    "The threading module in Python is used to create, manage, and work with threads. It helps in achieving concurrency, particularly for I/O-bound tasks, and simplifies thread-related operations.\n",
    "\n",
    "Functions in the threading Module\n",
    "1. activeCount()\n",
    "Use: Returns the number of currently active threads."
   ]
  },
  {
   "cell_type": "code",
   "execution_count": 4,
   "id": "35f76b1e-639a-4150-ab27-aaf1e9734265",
   "metadata": {},
   "outputs": [
    {
     "name": "stdout",
     "output_type": "stream",
     "text": [
      "0\n",
      "1\n",
      "2\n",
      "Active threads: 9\n"
     ]
    },
    {
     "name": "stderr",
     "output_type": "stream",
     "text": [
      "C:\\Users\\abhis\\AppData\\Local\\Temp\\ipykernel_6900\\1760525437.py:10: DeprecationWarning: activeCount() is deprecated, use active_count() instead\n",
      "  print(f\"Active threads: {threading.activeCount()}\")\n"
     ]
    }
   ],
   "source": [
    "import threading\n",
    "\n",
    "def print_numbers():\n",
    "    for i in range(3):\n",
    "        print(i)\n",
    "\n",
    "thread = threading.Thread(target=print_numbers)\n",
    "thread.start()\n",
    "\n",
    "print(f\"Active threads: {threading.activeCount()}\")\n"
   ]
  },
  {
   "cell_type": "markdown",
   "id": "575d94f6-097c-405d-b8f2-8554b1607ad9",
   "metadata": {},
   "source": [
    "2. currentThread()\n",
    "Use: Returns the Thread object corresponding to the thread that is currently executing."
   ]
  },
  {
   "cell_type": "code",
   "execution_count": 7,
   "id": "2c8a082c-d192-4b53-8edb-f13529dba710",
   "metadata": {},
   "outputs": [
    {
     "name": "stdout",
     "output_type": "stream",
     "text": [
      "Main thread: MainThreadCurrent thread: WorkerThread\n",
      "\n"
     ]
    },
    {
     "name": "stderr",
     "output_type": "stream",
     "text": [
      "C:\\Users\\abhis\\AppData\\Local\\Temp\\ipykernel_6900\\773356184.py:4: DeprecationWarning: currentThread() is deprecated, use current_thread() instead\n",
      "  print(f\"Current thread: {threading.currentThread().name}\")\n",
      "C:\\Users\\abhis\\AppData\\Local\\Temp\\ipykernel_6900\\773356184.py:8: DeprecationWarning: currentThread() is deprecated, use current_thread() instead\n",
      "  print(f\"Main thread: {threading.currentThread().name}\")\n"
     ]
    }
   ],
   "source": [
    "import threading\n",
    "\n",
    "def print_thread_name():\n",
    "    print(f\"Current thread: {threading.currentThread().name}\")\n",
    "\n",
    "thread = threading.Thread(target=print_thread_name, name=\"WorkerThread\")\n",
    "thread.start()\n",
    "print(f\"Main thread: {threading.currentThread().name}\")\n"
   ]
  },
  {
   "cell_type": "markdown",
   "id": "fec0ab90-5ad1-4656-97d0-8ef06ed1177f",
   "metadata": {},
   "source": [
    "3. enumerate()\n",
    "Use: Returns a list of all currently active Thread objects"
   ]
  },
  {
   "cell_type": "code",
   "execution_count": 10,
   "id": "5ae855a6-4a28-4d9c-b748-79c3f4dc649d",
   "metadata": {},
   "outputs": [
    {
     "name": "stdout",
     "output_type": "stream",
     "text": [
      "0Active threads: [<_MainThread(MainThread, started 11368)>, <Thread(IOPub, started daemon 8496)>, <Heartbeat(Heartbeat, started daemon 8904)>, <Thread(Tornado selector, started daemon 3184)>, <ControlThread(Control, started daemon 12716)>, <Thread(Tornado selector, started daemon 3008)>, <HistorySavingThread(IPythonHistorySavingThread, started 6752)>, <ParentPollerWindows(Thread-4, started daemon 13804)>, <Thread(Tornado selector, started daemon 14824)>, <Thread(Thread-7 (print_numbers), started 16076)>]\n",
      "\n",
      "1\n",
      "2\n"
     ]
    }
   ],
   "source": [
    "import threading\n",
    "\n",
    "def print_numbers():\n",
    "    for i in range(3):\n",
    "        print(i)\n",
    "\n",
    "thread = threading.Thread(target=print_numbers)\n",
    "thread.start()\n",
    "\n",
    "print(f\"Active threads: {threading.enumerate()}\")\n"
   ]
  },
  {
   "cell_type": "markdown",
   "id": "618e953f-8d0a-4dbe-bb60-5e9a3efc324d",
   "metadata": {},
   "source": [
    "Q3. Explain the following functions\n",
    "* run()\n",
    "* start()\n",
    "* join()\n",
    "* isAlive()\n"
   ]
  },
  {
   "cell_type": "markdown",
   "id": "bc1be744-8b70-42a4-8da4-cbef448c09ff",
   "metadata": {},
   "source": [
    "1. run() : \n",
    "Use: Defines the activity or behavior of a thread. It is invoked automatically when the thread is started using the start() method.\n",
    "\n",
    "Note: If called directly, it will execute in the main thread instead of a separate thread.\n",
    "\n",
    "2. start() : \n",
    "Use: Starts the thread’s execution. This method calls the run() method in a separate thread.\n",
    "Important: Always use start() instead of calling run() directly.\n",
    "\n",
    "3. join() : \n",
    "Use: Blocks the calling thread until the thread on which join() is called completes. It ensures proper synchronization\n",
    "\n",
    "4. isAlive() : \n",
    "Use: Returns True if the thread is still alive (i.e., has started but not finished), otherwise False.\n",
    "Note: In Python 3.9+, use is_alive() instead."
   ]
  },
  {
   "cell_type": "markdown",
   "id": "0daec598-b69d-4068-891e-d8874eb4bb41",
   "metadata": {},
   "source": [
    "Q4. Write a python program to create two threads. Thread one must print the list of squares and thread\n",
    "two must print the list of cubes."
   ]
  },
  {
   "cell_type": "code",
   "execution_count": 14,
   "id": "02e33dd4-95b8-4359-be67-4c9fbb202659",
   "metadata": {},
   "outputs": [
    {
     "name": "stdout",
     "output_type": "stream",
     "text": [
      "Square of 1: 1\n",
      "Square of 2: 4\n",
      "Square of 3: 9\n",
      "Square of 4: 16\n",
      "Square of 5: 25\n",
      "Cube of 1: 1\n",
      "Cube of 2: 8\n",
      "Cube of 3: 27\n",
      "Cube of 4: 64\n",
      "Cube of 5: 125\n",
      "Both threads have completed.\n"
     ]
    }
   ],
   "source": [
    "import threading\n",
    "\n",
    "# Function to print squares\n",
    "def print_squares(numbers):\n",
    "    for n in numbers:\n",
    "        print(f\"Square of {n}: {n**2}\")\n",
    "\n",
    "# Function to print cubes\n",
    "def print_cubes(numbers):\n",
    "    for n in numbers:\n",
    "        print(f\"Cube of {n}: {n**3}\")\n",
    "\n",
    "# List of numbers\n",
    "numbers = [1, 2, 3, 4, 5]\n",
    "\n",
    "# Create threads\n",
    "thread1 = threading.Thread(target=print_squares, args=(numbers,))\n",
    "thread2 = threading.Thread(target=print_cubes, args=(numbers,))\n",
    "\n",
    "# Start threads\n",
    "thread1.start()\n",
    "thread2.start()\n",
    "\n",
    "# Wait for threads to complete\n",
    "thread1.join()\n",
    "thread2.join()\n",
    "\n",
    "print(\"Both threads have completed.\")\n"
   ]
  },
  {
   "cell_type": "markdown",
   "id": "f560ceaf-843f-4e7a-ac01-fe7059e520f3",
   "metadata": {},
   "source": [
    "Q5. State advantages and disadvantages of multithreading.\n",
    "\n",
    "\n",
    "* Advantages of Multithreading\n",
    "1. Concurrency: Enables multiple tasks to run simultaneously, improving efficiency for I/O-bound tasks like file reading or network requests.\n",
    "2. Resource Sharing: Threads share the same memory space, reducing memory usage compared to multiprocessing.\n",
    "3. Responsiveness: Keeps the application responsive, especially for GUI or web-based applications.\n",
    "4. Cost-Effective Context Switching: Switching between threads is faster than between processes.\n",
    "5. Simplified Program Design: Helps break down complex tasks into smaller, manageable threads.\n",
    "* Disadvantages of Multithreading\n",
    "1. Global Interpreter Lock (GIL): In Python, GIL restricts threads from running truly in parallel for CPU-bound tasks, limiting performance.\n",
    "2. Complexity: Increases program complexity with potential for race conditions, deadlocks, and debugging difficulties.\n",
    "3. No True Parallelism: Multithreading is less effective for CPU-intensive tasks due to GIL in Python.\n",
    "4. Unpredictable Behavior: Thread scheduling by the operating system can cause non-deterministic results.\n",
    "5. Resource Contention: Threads competing for shared resources can lead to performance bottlenecks."
   ]
  },
  {
   "cell_type": "markdown",
   "id": "2023bde2-b804-41a1-a8a2-5821201007d5",
   "metadata": {},
   "source": [
    "Q6. Explain deadlocks and race conditions."
   ]
  },
  {
   "cell_type": "markdown",
   "id": "a7757d9f-2c89-4f2a-932d-be65cb9f8ba1",
   "metadata": {},
   "source": [
    "\n",
    "Deadlocks\n",
    "Definition : A deadlock occurs when two or more threads are waiting for each other to release resources, causing all of them to stop executing indefinitely.\n",
    "\n",
    "Example\n",
    "Two threads each lock a resource and wait for the other thread to release its resource, resulting in a stalemate.\n",
    "\n",
    "Illustration:\n",
    "* Thread 1: Locks Resource A and waits for Resource B.\n",
    "* Thread 2: Locks Resource B and waits for Resource A.\n",
    "\n",
    "Race Conditions\n",
    "Definition : A race condition occurs when two or more threads access shared data or resources simultaneously, leading to unpredictable or incorrect results.\n",
    "\n",
    "Example\n",
    "Two threads increment a shared counter simultaneously, and the final value is incorrect due to overlapping operations.\n",
    "\n",
    "Illustration:\n",
    "* Thread 1 reads the counter, increments it, and writes it back.\n",
    "* Thread 2 does the same without knowing Thread 1 is operating."
   ]
  },
  {
   "cell_type": "code",
   "execution_count": null,
   "id": "bfcaec5f-682b-43dc-b3f9-ae8e40c1778d",
   "metadata": {},
   "outputs": [],
   "source": []
  }
 ],
 "metadata": {
  "kernelspec": {
   "display_name": "Python 3 (ipykernel)",
   "language": "python",
   "name": "python3"
  },
  "language_info": {
   "codemirror_mode": {
    "name": "ipython",
    "version": 3
   },
   "file_extension": ".py",
   "mimetype": "text/x-python",
   "name": "python",
   "nbconvert_exporter": "python",
   "pygments_lexer": "ipython3",
   "version": "3.12.4"
  }
 },
 "nbformat": 4,
 "nbformat_minor": 5
}
